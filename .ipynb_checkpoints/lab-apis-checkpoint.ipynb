{
 "cells": [
  {
   "cell_type": "markdown",
   "id": "27422808-8a16-4be1-897f-57b379af8991",
   "metadata": {},
   "source": [
    "# Lab | APIs"
   ]
  },
  {
   "cell_type": "markdown",
   "id": "50f30950-3e31-499a-92ea-1535422c570b",
   "metadata": {},
   "source": [
    "In order to use the `Spotify` API (`SpotiPy`), create an account in `Spotify` and follow [these](https://developer.spotify.com/documentation/general/guides/app-settings/) steps. "
   ]
  },
  {
   "cell_type": "markdown",
   "id": "a0479b95-6ca5-415e-b894-1f5cb17b055b",
   "metadata": {},
   "source": [
    "## Authentication and initializing the API"
   ]
  },
  {
   "cell_type": "markdown",
   "id": "47d71611-c617-4972-a0c3-7090c24b399c",
   "metadata": {},
   "source": [
    "Save your client ID and your client secret in your preferred way, and read it or load it into the following variables:"
   ]
  },
  {
   "cell_type": "code",
   "execution_count": null,
   "id": "ea44c82a-5c07-4dbc-beb2-bba2601bb75e",
   "metadata": {},
   "outputs": [],
   "source": [
    "CLIENT_ID = \"<introduce your client id>\"\n",
    "CLIENT_SECRET = \"<introduce your client secret>\""
   ]
  },
  {
   "cell_type": "code",
   "execution_count": 1,
   "id": "319cfd4e-f6fb-4419-80e0-e3983cd25e43",
   "metadata": {},
   "outputs": [],
   "source": [
    "CLIENT_ID = \"c5712981607e4e8e81b44cdb79f01fc1\"\n",
    "CLIENT_SECRET = \"760ff63f94f4497ab1ee9c4126d4bb7e\""
   ]
  },
  {
   "cell_type": "code",
   "execution_count": null,
   "id": "04e12954-fd70-4311-88a5-fb7e2c29799c",
   "metadata": {},
   "outputs": [],
   "source": [
    "# If you havent done so, install the spotipy wrapper\n",
    "!pip install spotipy"
   ]
  },
  {
   "cell_type": "markdown",
   "id": "dc0e86da-8846-4207-84c3-cd20b9e01d0e",
   "metadata": {},
   "source": [
    "Once you have done it, we will start initializing the API."
   ]
  },
  {
   "cell_type": "code",
   "execution_count": 2,
   "id": "03034bc6-9858-412a-83b7-18abdc345d7e",
   "metadata": {},
   "outputs": [],
   "source": [
    "import spotipy\n",
    "from spotipy.oauth2 import SpotifyClientCredentials\n",
    "\n",
    "#Initialize SpotiPy with user credentials\n",
    "sp = spotipy.Spotify(auth_manager=SpotifyClientCredentials(client_id=CLIENT_ID,\n",
    "                                                           client_secret=CLIENT_SECRET))\n"
   ]
  },
  {
   "cell_type": "markdown",
   "id": "8fed9628-08d7-4290-a4be-5527696b01c5",
   "metadata": {},
   "source": [
    "## Using the search method"
   ]
  },
  {
   "cell_type": "markdown",
   "id": "6575a3c6-f25a-4905-b1f3-c0efd50dcc1e",
   "metadata": {},
   "source": [
    "Now, let's use the search method by introducing a \"query\". For example, let's try searching for \"Lady Gaga\":"
   ]
  },
  {
   "cell_type": "code",
   "execution_count": null,
   "id": "7772a1e0-9692-4d04-a590-76111a272d8d",
   "metadata": {
    "tags": []
   },
   "outputs": [],
   "source": [
    "results = sp.search(q='Lady Gaga', limit=50)\n",
    "results"
   ]
  },
  {
   "cell_type": "code",
   "execution_count": null,
   "id": "edc14c95-474b-4e2a-aea3-bdfd0a205546",
   "metadata": {},
   "outputs": [],
   "source": [
    "results.keys() # We can see that we only have tracks"
   ]
  },
  {
   "cell_type": "code",
   "execution_count": null,
   "id": "ad8ef934-1dbb-4008-ac8e-f5c29823fe6a",
   "metadata": {},
   "outputs": [],
   "source": [
    "results[\"tracks\"].keys() # Let's check the values"
   ]
  },
  {
   "cell_type": "code",
   "execution_count": null,
   "id": "004b7814-4dd5-408e-b7ba-1da87f9250cb",
   "metadata": {},
   "outputs": [],
   "source": [
    "results[\"tracks\"][\"href\"] # Query we have searched "
   ]
  },
  {
   "cell_type": "code",
   "execution_count": null,
   "id": "7285cedd-fbe1-47cf-98d5-a7fdc3e5c8b8",
   "metadata": {
    "scrolled": true,
    "tags": []
   },
   "outputs": [],
   "source": [
    "results[\"tracks\"][\"items\"] #items (actual tracks)"
   ]
  },
  {
   "cell_type": "code",
   "execution_count": null,
   "id": "529fff56-47d3-4d78-8ff5-9530fe290d1d",
   "metadata": {},
   "outputs": [],
   "source": [
    "results[\"tracks\"][\"limit\"]#Limit we have chosen"
   ]
  },
  {
   "cell_type": "code",
   "execution_count": null,
   "id": "92c64c57-3bd2-4d42-bbd1-84a040f1e02a",
   "metadata": {},
   "outputs": [],
   "source": [
    "results[\"tracks\"][\"next\"] #link to the next page (next 50 tracks)"
   ]
  },
  {
   "cell_type": "code",
   "execution_count": null,
   "id": "f5ccdf79-5d9e-40de-adb9-2cc1e5b7c74a",
   "metadata": {
    "tags": []
   },
   "outputs": [],
   "source": [
    "results[\"tracks\"][\"offset\"] # Actual offset (starting point)"
   ]
  },
  {
   "cell_type": "code",
   "execution_count": null,
   "id": "356730c1-60a2-4ea8-bd2c-e0522bab8a4d",
   "metadata": {},
   "outputs": [],
   "source": [
    "results[\"tracks\"][\"previous\"] #Previous search"
   ]
  },
  {
   "cell_type": "code",
   "execution_count": null,
   "id": "7c44c8fd-63ea-45ba-94bd-5c5e8e1458b3",
   "metadata": {},
   "outputs": [],
   "source": [
    "results[\"tracks\"][\"total\"] # Number of matches"
   ]
  },
  {
   "cell_type": "markdown",
   "id": "7a127c64-3274-4ecc-aa0f-83ae34af4655",
   "metadata": {},
   "source": [
    "## Exploring the tracks"
   ]
  },
  {
   "cell_type": "code",
   "execution_count": null,
   "id": "6c3541a2-0fd2-41e0-9b27-60a7dc36c4cb",
   "metadata": {
    "scrolled": true,
    "tags": []
   },
   "outputs": [],
   "source": [
    "results[\"tracks\"][\"items\"][0] # Explore the first song"
   ]
  },
  {
   "cell_type": "code",
   "execution_count": null,
   "id": "f2c35eb2-3ea6-4329-9f29-7c062f466638",
   "metadata": {},
   "outputs": [],
   "source": [
    "results[\"tracks\"][\"items\"][0].keys() # We will focus on album, artists, id, name, popularity, type and uri"
   ]
  },
  {
   "cell_type": "code",
   "execution_count": null,
   "id": "889ca3c3-b0c8-4037-96fb-6add847f537f",
   "metadata": {},
   "outputs": [],
   "source": [
    "# Track artists\n",
    "results[\"tracks\"][\"items\"][0][\"artists\"] "
   ]
  },
  {
   "cell_type": "code",
   "execution_count": null,
   "id": "a9c6a0b2-cea7-48ff-8c51-179d15388aa2",
   "metadata": {},
   "outputs": [],
   "source": [
    "# Track artists names\n",
    "for track in results[\"tracks\"][\"items\"][0][\"artists\"]:\n",
    "    print(artist[\"name\"])"
   ]
  },
  {
   "cell_type": "code",
   "execution_count": null,
   "id": "6a826e9c-d2e7-4537-a82c-3dc3a2b80b9f",
   "metadata": {},
   "outputs": [],
   "source": [
    "# Track ID\n",
    "results[\"tracks\"][\"items\"][0][\"id\"] "
   ]
  },
  {
   "cell_type": "code",
   "execution_count": null,
   "id": "a5bd871b-6087-4680-819c-1a1d8ba879bc",
   "metadata": {},
   "outputs": [],
   "source": [
    "# Track name\n",
    "results[\"tracks\"][\"items\"][0][\"name\"] "
   ]
  },
  {
   "cell_type": "code",
   "execution_count": null,
   "id": "812661f1-29db-452f-a719-cdfbe95ba9f6",
   "metadata": {},
   "outputs": [],
   "source": [
    "# Popularity index\n",
    "results[\"tracks\"][\"items\"][0][\"popularity\"] "
   ]
  },
  {
   "cell_type": "markdown",
   "id": "0e81c762-e6c5-424e-a4eb-12ab45dffb9f",
   "metadata": {},
   "source": [
    "Spotify songs are identified by either a \"url\", a \"uri\", or an \"id\". \n",
    "\n",
    "- The `id` is an alphanumeric code, and it's the nuclear part of the identifier.\n",
    "\n",
    "- The `uri` contains \"spotify:track\" before the id. An uri is useful because it can be searched manually in the Spotify app.\n",
    "\n",
    "- The `url` is a link to the song on the Spotify web player.\n"
   ]
  },
  {
   "cell_type": "code",
   "execution_count": null,
   "id": "8bcdccfc-dde9-4f4b-8af5-3caa335b89b5",
   "metadata": {},
   "outputs": [],
   "source": [
    "results[\"tracks\"][\"items\"][0][\"uri\"]"
   ]
  },
  {
   "cell_type": "markdown",
   "id": "71c3c9c1-4ec2-42bf-a243-b21105ae1699",
   "metadata": {},
   "source": [
    "## Exercise 1: Discovering New Music through Your Favorite Artists\n",
    "\n",
    "**Objective:** \n",
    "Uncover new music by exploring the top tracks of your favorite artists and their related artists.\n",
    "\n",
    "**Instructions:**\n",
    "\n",
    "1. **List Your Favorite Artists**:\n",
    "    - Make a list of your three favorite artists and store it in a variable named `artists`.\n",
    "    - Example: `artists = [\"Los Fabulosos Cadillacs\", \"Manu Chao\", \"Muchachito Bombo Infierno\"]`.\n",
    "\n",
    "2. **Fetch Top Tracks**:\n",
    "    - Write a function named `get_top_tracks`.\n",
    "    - This function should accept an artist's name and return the name of the first 5 top tracks by that artist.\n",
    "    - Use the function `get_top_tracks` to get the first 5 top tracks for each artist in your `artists` list and store the results in a new list named `top_tracks_list`.\n",
    "\n",
    "3. **Discover Related Artists**:\n",
    "    - Write a function named `find_related_artists`.\n",
    "    - This function should accept an artist's name and return the names of the first 5 artists related to the provided artist.\n",
    "    - Store the results in a list named `related_artists_list`.\n",
    "\n",
    "**Challenge:** \n",
    "Combine the above steps to create a playlist that includes the top tracks of your favorite artists and the top tracks of the artists related to them."
   ]
  },
  {
   "cell_type": "markdown",
   "id": "0c442378-e26f-47c8-b4f1-b4fa07089935",
   "metadata": {},
   "source": [
    "**Hint Section for 3. **Discover Related Artists**:**\n",
    "\n",
    "1. **Getting Artist ID**:\n",
    "    - Remember that every artist on Spotify has a unique identifier: their `id`. To get the related artists, you first need to fetch the ID of the given artist.\n",
    "    - Consider using the `sp.search` method to query the artist's name. The method requires a `q` parameter, which is your query (in this case, the artist's name). It also has a `limit` parameter, which specifies the number of tracks it returns. In this case, 1 track is enough, since we just want the artist ID. \n",
    "    - Each track in the results has an associated 'artists' field. This field is a list containing details about all artists involved in that track.\n",
    "   - For most tracks, especially those by a single artist, this list will contain one artist. From this artist's details, you can extract the 'id' field, which is the unique identifier for that artist on Spotify.\n",
    "\n",
    "\n",
    "3. **Fetching Related Artists**:\n",
    "    - Once you have the artist's ID, you can use another SpotiPy method to fetch related artists. Think about which SpotiPy method allows you to get related artists using an artist's ID. Here is the documentation link: https://spotipy.readthedocs.io/en/2.22.1/. \n",
    "    - This method will return a list of related artists. You'll need to extract the relevant details (artist names) from this list.\n",
    "\n",
    "4. **Iterating for Multiple Artists**:\n",
    "    - Once you have a function that returns related artists names for one artist, you can use a list comprehension to apply this function to a list of artist names.\n",
    "\n",
    "5. **Testing**:\n",
    "    - Always test your function with one artist name first. Once you're confident it works, then apply it to the entire list.\n",
    "\n",
    "Remember, the key is to break the problem down into manageable steps. Use the SpotiPy documentation as a resource to understand available methods and their return structures."
   ]
  },
  {
   "cell_type": "code",
   "execution_count": 5,
   "id": "29694252-f217-454d-8881-681b2b6eeb1e",
   "metadata": {},
   "outputs": [],
   "source": [
    "artists = ['Omah Lay', 'Asake', 'Burna Boy']"
   ]
  },
  {
   "cell_type": "code",
   "execution_count": 33,
   "id": "4aa2bcbf",
   "metadata": {},
   "outputs": [
    {
     "data": {
      "text/plain": [
       "[['Holy Ghost',\n",
       "  'soso',\n",
       "  'Another Vibe (feat. Omah Lay)',\n",
       "  'reason',\n",
       "  'People (feat. Ayra Starr & Omah Lay)'],\n",
       " ['Lonely At The Top',\n",
       "  'Happiness (feat. Asake & Gunna)',\n",
       "  'Amapiano',\n",
       "  'Bandana',\n",
       "  'Basquiat'],\n",
       " ['City Boys',\n",
       "  'Last Last',\n",
       "  'Location (feat. Burna Boy)',\n",
       "  'just like me',\n",
       "  'For My Hand (feat. Ed Sheeran)']]"
      ]
     },
     "execution_count": 33,
     "metadata": {},
     "output_type": "execute_result"
    }
   ],
   "source": [
    "def get_top_tracks(artist_name):\n",
    "    search_results = sp.search(q='artist:'+ artist_name, type='artist')\n",
    "    artist_id = search_results[\"artists\"][\"items\"][0][\"id\"]\n",
    "    \n",
    "    list_tracks = sp.artist_top_tracks(artist_id)\n",
    "    top_tracks = [track['name'] for track in list_tracks['tracks'][:5]]\n",
    "    \n",
    "    return top_tracks\n",
    "\n",
    "\n",
    "top_tracks_list = [get_top_tracks(artist) for artist in artists]\n",
    "top_tracks_list"
   ]
  },
  {
   "cell_type": "code",
   "execution_count": 36,
   "id": "9a5853f2",
   "metadata": {},
   "outputs": [
    {
     "data": {
      "text/plain": [
       "[['Victony', 'Joeboy', 'Bnxn', 'Bella Shmurda', 'Fireboy DML'],\n",
       " ['Seyi Vibez', 'Young Jonn', 'Zinoleesky', 'Mohbad', 'Bnxn'],\n",
       " ['Wizkid', 'Davido', 'Asake', 'Fireboy DML', 'Olamide']]"
      ]
     },
     "execution_count": 36,
     "metadata": {},
     "output_type": "execute_result"
    }
   ],
   "source": [
    "def find_related_artists(artist_name):\n",
    "    search_results = sp.search(q='artist:'+ artist_name, type='artist', limit=1)\n",
    "    artist_id = search_results[\"artists\"][\"items\"][0][\"id\"]\n",
    "    \n",
    "    related_artists = sp.artist_related_artists(artist_id)\n",
    "    related_list = [artist['name'] for artist in related_artists['artists'][:5]]\n",
    "    \n",
    "    return related_list\n",
    "\n",
    "related_artists_list = [find_related_artists(artist) for artist in artists]\n",
    "related_artists_list"
   ]
  },
  {
   "cell_type": "markdown",
   "id": "94ad5fdc-22e5-4521-8aa1-c6833eb7e949",
   "metadata": {},
   "source": [
    "## Playlists\n",
    "\n",
    "The `sp.featured_playlists()` method in `spotipy` fetches a list of Spotify's featured playlists at a given moment. These are curated playlists that Spotify often highlights on the platform's homepage. The method provides a snapshot of the playlists that are being promoted or featured by Spotify at the time of the request.\n",
    "\n",
    "Once you've fetched the featured playlists, you can extract their IDs (and other details)."
   ]
  },
  {
   "cell_type": "code",
   "execution_count": 37,
   "id": "25fb0cf8-c13a-41b0-b8f8-7e0700fd1e41",
   "metadata": {},
   "outputs": [
    {
     "data": {
      "text/plain": [
       "{'message': 'Popular Playlists',\n",
       " 'playlists': {'href': 'https://api.spotify.com/v1/browse/featured-playlists?offset=0&limit=20',\n",
       "  'items': [{'collaborative': False,\n",
       "    'description': 'De 50 populairste hits van Nederland. Cover: Benson Boone\\n',\n",
       "    'external_urls': {'spotify': 'https://open.spotify.com/playlist/37i9dQZF1DWSBi5svWQ9Nk'},\n",
       "    'href': 'https://api.spotify.com/v1/playlists/37i9dQZF1DWSBi5svWQ9Nk',\n",
       "    'id': '37i9dQZF1DWSBi5svWQ9Nk',\n",
       "    'images': [{'height': None,\n",
       "      'url': 'https://i.scdn.co/image/ab67706f00000002c2ac46d32289ff5e759359ba',\n",
       "      'width': None}],\n",
       "    'name': 'Top Hits NL',\n",
       "    'owner': {'display_name': 'Spotify',\n",
       "     'external_urls': {'spotify': 'https://open.spotify.com/user/spotify'},\n",
       "     'href': 'https://api.spotify.com/v1/users/spotify',\n",
       "     'id': 'spotify',\n",
       "     'type': 'user',\n",
       "     'uri': 'spotify:user:spotify'},\n",
       "    'primary_color': '#C3F0C8',\n",
       "    'public': True,\n",
       "    'snapshot_id': 'ZeEMcAAAAACEkHpQt8LKMooAluuXF9/m',\n",
       "    'tracks': {'href': 'https://api.spotify.com/v1/playlists/37i9dQZF1DWSBi5svWQ9Nk/tracks',\n",
       "     'total': 50},\n",
       "    'type': 'playlist',\n",
       "    'uri': 'spotify:playlist:37i9dQZF1DWSBi5svWQ9Nk'},\n",
       "   {'collaborative': False,\n",
       "    'description': 'De beste Nederlandse hits van vroeger en nu. Cover: Hannah Mae',\n",
       "    'external_urls': {'spotify': 'https://open.spotify.com/playlist/37i9dQZF1DXdKMCnEhDnDL'},\n",
       "    'href': 'https://api.spotify.com/v1/playlists/37i9dQZF1DXdKMCnEhDnDL',\n",
       "    'id': '37i9dQZF1DXdKMCnEhDnDL',\n",
       "    'images': [{'height': None,\n",
       "      'url': 'https://i.scdn.co/image/ab67706f00000002f714316193f241b5bf1425f6',\n",
       "      'width': None}],\n",
       "    'name': 'Beste van NL',\n",
       "    'owner': {'display_name': 'Spotify',\n",
       "     'external_urls': {'spotify': 'https://open.spotify.com/user/spotify'},\n",
       "     'href': 'https://api.spotify.com/v1/users/spotify',\n",
       "     'id': 'spotify',\n",
       "     'type': 'user',\n",
       "     'uri': 'spotify:user:spotify'},\n",
       "    'primary_color': '#ffffff',\n",
       "    'public': True,\n",
       "    'snapshot_id': 'Zd9PuAAAAAA1F9/KjOc29RptJId/IfHz',\n",
       "    'tracks': {'href': 'https://api.spotify.com/v1/playlists/37i9dQZF1DXdKMCnEhDnDL/tracks',\n",
       "     'total': 100},\n",
       "    'type': 'playlist',\n",
       "    'uri': 'spotify:playlist:37i9dQZF1DXdKMCnEhDnDL'},\n",
       "   {'collaborative': False,\n",
       "    'description': 'De grootste hits uit de kroeg in één playlist.',\n",
       "    'external_urls': {'spotify': 'https://open.spotify.com/playlist/37i9dQZF1DWUppGmuwT9c7'},\n",
       "    'href': 'https://api.spotify.com/v1/playlists/37i9dQZF1DWUppGmuwT9c7',\n",
       "    'id': '37i9dQZF1DWUppGmuwT9c7',\n",
       "    'images': [{'height': None,\n",
       "      'url': 'https://i.scdn.co/image/ab67706f00000002d59403672aeed868317fe155',\n",
       "      'width': None}],\n",
       "    'name': 'Kroegenhits 2024',\n",
       "    'owner': {'display_name': 'Spotify',\n",
       "     'external_urls': {'spotify': 'https://open.spotify.com/user/spotify'},\n",
       "     'href': 'https://api.spotify.com/v1/users/spotify',\n",
       "     'id': 'spotify',\n",
       "     'type': 'user',\n",
       "     'uri': 'spotify:user:spotify'},\n",
       "    'primary_color': '#ffffff',\n",
       "    'public': True,\n",
       "    'snapshot_id': 'ZeEPEwAAAAAvvMIKW3tGBn/FWPMVTQ0w',\n",
       "    'tracks': {'href': 'https://api.spotify.com/v1/playlists/37i9dQZF1DWUppGmuwT9c7/tracks',\n",
       "     'total': 78},\n",
       "    'type': 'playlist',\n",
       "    'uri': 'spotify:playlist:37i9dQZF1DWUppGmuwT9c7'},\n",
       "   {'collaborative': False,\n",
       "    'description': 'De nieuwste releases elke vrijdag op Spotify! Cover: Joost',\n",
       "    'external_urls': {'spotify': 'https://open.spotify.com/playlist/37i9dQZF1DXb5BKLTO7ULa'},\n",
       "    'href': 'https://api.spotify.com/v1/playlists/37i9dQZF1DXb5BKLTO7ULa',\n",
       "    'id': '37i9dQZF1DXb5BKLTO7ULa',\n",
       "    'images': [{'height': None,\n",
       "      'url': 'https://i.scdn.co/image/ab67706f0000000287573e6a802b236f5fb393b6',\n",
       "      'width': None}],\n",
       "    'name': 'New Music Friday NL',\n",
       "    'owner': {'display_name': 'Spotify',\n",
       "     'external_urls': {'spotify': 'https://open.spotify.com/user/spotify'},\n",
       "     'href': 'https://api.spotify.com/v1/users/spotify',\n",
       "     'id': 'spotify',\n",
       "     'type': 'user',\n",
       "     'uri': 'spotify:user:spotify'},\n",
       "    'primary_color': '#A0C3D2',\n",
       "    'public': True,\n",
       "    'snapshot_id': 'ZeEMcAAAAAAd+NEJXkXE88HtzeJJptch',\n",
       "    'tracks': {'href': 'https://api.spotify.com/v1/playlists/37i9dQZF1DXb5BKLTO7ULa/tracks',\n",
       "     'total': 100},\n",
       "    'type': 'playlist',\n",
       "    'uri': 'spotify:playlist:37i9dQZF1DXb5BKLTO7ULa'},\n",
       "   {'collaborative': False,\n",
       "    'description': 'Koffie met gemoedelijke muziek op de achtergrond.',\n",
       "    'external_urls': {'spotify': 'https://open.spotify.com/playlist/37i9dQZF1DWYPwGkJoztcR'},\n",
       "    'href': 'https://api.spotify.com/v1/playlists/37i9dQZF1DWYPwGkJoztcR',\n",
       "    'id': '37i9dQZF1DWYPwGkJoztcR',\n",
       "    'images': [{'height': None,\n",
       "      'url': 'https://i.scdn.co/image/ab67706f0000000258e9793722274f9d7b7e85e6',\n",
       "      'width': None}],\n",
       "    'name': \"'t Koffiehuis\",\n",
       "    'owner': {'display_name': 'Spotify',\n",
       "     'external_urls': {'spotify': 'https://open.spotify.com/user/spotify'},\n",
       "     'href': 'https://api.spotify.com/v1/users/spotify',\n",
       "     'id': 'spotify',\n",
       "     'type': 'user',\n",
       "     'uri': 'spotify:user:spotify'},\n",
       "    'primary_color': '#ffffff',\n",
       "    'public': True,\n",
       "    'snapshot_id': 'ZeEMcAAAAABsHhFeVNAxKbgAX97eKESa',\n",
       "    'tracks': {'href': 'https://api.spotify.com/v1/playlists/37i9dQZF1DWYPwGkJoztcR/tracks',\n",
       "     'total': 100},\n",
       "    'type': 'playlist',\n",
       "    'uri': 'spotify:playlist:37i9dQZF1DWYPwGkJoztcR'},\n",
       "   {'collaborative': False,\n",
       "    'description': 'Lekker rustig aan doen op zondag met deze zachte pop liedjes.',\n",
       "    'external_urls': {'spotify': 'https://open.spotify.com/playlist/37i9dQZF1DWZpGSuzrdTXg'},\n",
       "    'href': 'https://api.spotify.com/v1/playlists/37i9dQZF1DWZpGSuzrdTXg',\n",
       "    'id': '37i9dQZF1DWZpGSuzrdTXg',\n",
       "    'images': [{'height': None,\n",
       "      'url': 'https://i.scdn.co/image/ab67706f000000024203ab0c15f6a3243fea16d8',\n",
       "      'width': None}],\n",
       "    'name': 'Easy On Sunday',\n",
       "    'owner': {'display_name': 'Spotify',\n",
       "     'external_urls': {'spotify': 'https://open.spotify.com/user/spotify'},\n",
       "     'href': 'https://api.spotify.com/v1/users/spotify',\n",
       "     'id': 'spotify',\n",
       "     'type': 'user',\n",
       "     'uri': 'spotify:user:spotify'},\n",
       "    'primary_color': '#ffffff',\n",
       "    'public': True,\n",
       "    'snapshot_id': 'Zc6XcAAAAAAGLfoktRxaDkeN6eBtCBru',\n",
       "    'tracks': {'href': 'https://api.spotify.com/v1/playlists/37i9dQZF1DWZpGSuzrdTXg/tracks',\n",
       "     'total': 100},\n",
       "    'type': 'playlist',\n",
       "    'uri': 'spotify:playlist:37i9dQZF1DWZpGSuzrdTXg'},\n",
       "   {'collaborative': False,\n",
       "    'description': 'Jandro op de cover van Woordenschat!',\n",
       "    'external_urls': {'spotify': 'https://open.spotify.com/playlist/37i9dQZF1DX19xRtMyA5LM'},\n",
       "    'href': 'https://api.spotify.com/v1/playlists/37i9dQZF1DX19xRtMyA5LM',\n",
       "    'id': '37i9dQZF1DX19xRtMyA5LM',\n",
       "    'images': [{'height': None,\n",
       "      'url': 'https://i.scdn.co/image/ab67706f0000000251d681bf7fba76c0c94cbd4b',\n",
       "      'width': None}],\n",
       "    'name': 'Woordenschat',\n",
       "    'owner': {'display_name': 'Spotify',\n",
       "     'external_urls': {'spotify': 'https://open.spotify.com/user/spotify'},\n",
       "     'href': 'https://api.spotify.com/v1/users/spotify',\n",
       "     'id': 'spotify',\n",
       "     'type': 'user',\n",
       "     'uri': 'spotify:user:spotify'},\n",
       "    'primary_color': '#ffffff',\n",
       "    'public': True,\n",
       "    'snapshot_id': 'ZeZScAAAAAAfoAtq6HOvhS/Xf4vGkyKy',\n",
       "    'tracks': {'href': 'https://api.spotify.com/v1/playlists/37i9dQZF1DX19xRtMyA5LM/tracks',\n",
       "     'total': 50},\n",
       "    'type': 'playlist',\n",
       "    'uri': 'spotify:playlist:37i9dQZF1DX19xRtMyA5LM'},\n",
       "   {'collaborative': False,\n",
       "    'description': 'The official Eurovision Song Contest 2024 playlist.',\n",
       "    'external_urls': {'spotify': 'https://open.spotify.com/playlist/37i9dQZF1DWVCKO3xAlT1Q'},\n",
       "    'href': 'https://api.spotify.com/v1/playlists/37i9dQZF1DWVCKO3xAlT1Q',\n",
       "    'id': '37i9dQZF1DWVCKO3xAlT1Q',\n",
       "    'images': [{'height': None,\n",
       "      'url': 'https://i.scdn.co/image/ab67706f0000000285f82c1b975c83fadf779db5',\n",
       "      'width': None}],\n",
       "    'name': 'Eurovision 2024',\n",
       "    'owner': {'display_name': 'Spotify',\n",
       "     'external_urls': {'spotify': 'https://open.spotify.com/user/spotify'},\n",
       "     'href': 'https://api.spotify.com/v1/users/spotify',\n",
       "     'id': 'spotify',\n",
       "     'type': 'user',\n",
       "     'uri': 'spotify:user:spotify'},\n",
       "    'primary_color': '#ffffff',\n",
       "    'public': True,\n",
       "    'snapshot_id': 'ZeW8wQAAAACnYvLIIbDfANxUjgqJ9CZD',\n",
       "    'tracks': {'href': 'https://api.spotify.com/v1/playlists/37i9dQZF1DWVCKO3xAlT1Q/tracks',\n",
       "     'total': 27},\n",
       "    'type': 'playlist',\n",
       "    'uri': 'spotify:playlist:37i9dQZF1DWVCKO3xAlT1Q'},\n",
       "   {'collaborative': False,\n",
       "    'description': 'Tate McRae is on top of the Hottest 50!',\n",
       "    'external_urls': {'spotify': 'https://open.spotify.com/playlist/37i9dQZF1DXcBWIGoYBM5M'},\n",
       "    'href': 'https://api.spotify.com/v1/playlists/37i9dQZF1DXcBWIGoYBM5M',\n",
       "    'id': '37i9dQZF1DXcBWIGoYBM5M',\n",
       "    'images': [{'height': None,\n",
       "      'url': 'https://i.scdn.co/image/ab67706f000000022e63cecea090de728740ae76',\n",
       "      'width': None}],\n",
       "    'name': 'Today’s Top Hits',\n",
       "    'owner': {'display_name': 'Spotify',\n",
       "     'external_urls': {'spotify': 'https://open.spotify.com/user/spotify'},\n",
       "     'href': 'https://api.spotify.com/v1/users/spotify',\n",
       "     'id': 'spotify',\n",
       "     'type': 'user',\n",
       "     'uri': 'spotify:user:spotify'},\n",
       "    'primary_color': '#FFFFFF',\n",
       "    'public': True,\n",
       "    'snapshot_id': 'ZeFg0AAAAACRG3Lo1w80AEkaBNGKSaX4',\n",
       "    'tracks': {'href': 'https://api.spotify.com/v1/playlists/37i9dQZF1DXcBWIGoYBM5M/tracks',\n",
       "     'total': 50},\n",
       "    'type': 'playlist',\n",
       "    'uri': 'spotify:playlist:37i9dQZF1DXcBWIGoYBM5M'},\n",
       "   {'collaborative': False,\n",
       "    'description': 'Kick back to the best new and recent chill hits.',\n",
       "    'external_urls': {'spotify': 'https://open.spotify.com/playlist/37i9dQZF1DX4WYpdgoIcn6'},\n",
       "    'href': 'https://api.spotify.com/v1/playlists/37i9dQZF1DX4WYpdgoIcn6',\n",
       "    'id': '37i9dQZF1DX4WYpdgoIcn6',\n",
       "    'images': [{'height': None,\n",
       "      'url': 'https://i.scdn.co/image/ab67706f0000000285a267af7eab188ae99105ad',\n",
       "      'width': None}],\n",
       "    'name': 'Chill Hits',\n",
       "    'owner': {'display_name': 'Spotify',\n",
       "     'external_urls': {'spotify': 'https://open.spotify.com/user/spotify'},\n",
       "     'href': 'https://api.spotify.com/v1/users/spotify',\n",
       "     'id': 'spotify',\n",
       "     'type': 'user',\n",
       "     'uri': 'spotify:user:spotify'},\n",
       "    'primary_color': '#FFFFFF',\n",
       "    'public': True,\n",
       "    'snapshot_id': 'Zc6XcAAAAAB34QAakrk7CXJ2mPAYVgZd',\n",
       "    'tracks': {'href': 'https://api.spotify.com/v1/playlists/37i9dQZF1DX4WYpdgoIcn6/tracks',\n",
       "     'total': 130},\n",
       "    'type': 'playlist',\n",
       "    'uri': 'spotify:playlist:37i9dQZF1DX4WYpdgoIcn6'},\n",
       "   {'collaborative': False,\n",
       "    'description': 'Motion & good vibes! Cover: KATNUF',\n",
       "    'external_urls': {'spotify': 'https://open.spotify.com/playlist/37i9dQZF1DWXHyhanaNMoy'},\n",
       "    'href': 'https://api.spotify.com/v1/playlists/37i9dQZF1DWXHyhanaNMoy',\n",
       "    'id': '37i9dQZF1DWXHyhanaNMoy',\n",
       "    'images': [{'height': None,\n",
       "      'url': 'https://i.scdn.co/image/ab67706f00000002a3ca0bc2a59fccbd8c7b3bad',\n",
       "      'width': None}],\n",
       "    'name': 'La Vida Loca',\n",
       "    'owner': {'display_name': 'Spotify',\n",
       "     'external_urls': {'spotify': 'https://open.spotify.com/user/spotify'},\n",
       "     'href': 'https://api.spotify.com/v1/users/spotify',\n",
       "     'id': 'spotify',\n",
       "     'type': 'user',\n",
       "     'uri': 'spotify:user:spotify'},\n",
       "    'primary_color': '#ec1e32',\n",
       "    'public': True,\n",
       "    'snapshot_id': 'ZeR5wAAAAAB0j88AbKiNAu3nWoHX76go',\n",
       "    'tracks': {'href': 'https://api.spotify.com/v1/playlists/37i9dQZF1DWXHyhanaNMoy/tracks',\n",
       "     'total': 62},\n",
       "    'type': 'playlist',\n",
       "    'uri': 'spotify:playlist:37i9dQZF1DWXHyhanaNMoy'},\n",
       "   {'collaborative': False,\n",
       "    'description': 'Voel je goed met deze tijdloze Happy Tunes!',\n",
       "    'external_urls': {'spotify': 'https://open.spotify.com/playlist/37i9dQZF1DX9u7XXOp0l5L'},\n",
       "    'href': 'https://api.spotify.com/v1/playlists/37i9dQZF1DX9u7XXOp0l5L',\n",
       "    'id': '37i9dQZF1DX9u7XXOp0l5L',\n",
       "    'images': [{'height': None,\n",
       "      'url': 'https://i.scdn.co/image/ab67706f00000002be84434de95f445323616f8a',\n",
       "      'width': None}],\n",
       "    'name': 'Happy Tunes',\n",
       "    'owner': {'display_name': 'Spotify',\n",
       "     'external_urls': {'spotify': 'https://open.spotify.com/user/spotify'},\n",
       "     'href': 'https://api.spotify.com/v1/users/spotify',\n",
       "     'id': 'spotify',\n",
       "     'type': 'user',\n",
       "     'uri': 'spotify:user:spotify'},\n",
       "    'primary_color': '#ffffff',\n",
       "    'public': True,\n",
       "    'snapshot_id': 'ZcYkywAAAAAHaeN67jF4KWCDWlY67/yv',\n",
       "    'tracks': {'href': 'https://api.spotify.com/v1/playlists/37i9dQZF1DX9u7XXOp0l5L/tracks',\n",
       "     'total': 125},\n",
       "    'type': 'playlist',\n",
       "    'uri': 'spotify:playlist:37i9dQZF1DX9u7XXOp0l5L'},\n",
       "   {'collaborative': False,\n",
       "    'description': 'Zo klinkt de winter van 2024!',\n",
       "    'external_urls': {'spotify': 'https://open.spotify.com/playlist/37i9dQZF1DXcx1szy2g67M'},\n",
       "    'href': 'https://api.spotify.com/v1/playlists/37i9dQZF1DXcx1szy2g67M',\n",
       "    'id': '37i9dQZF1DXcx1szy2g67M',\n",
       "    'images': [{'height': None,\n",
       "      'url': 'https://i.scdn.co/image/ab67706f0000000241632f0570003909c8b12efe',\n",
       "      'width': None}],\n",
       "    'name': \"Winter '24\",\n",
       "    'owner': {'display_name': 'Spotify',\n",
       "     'external_urls': {'spotify': 'https://open.spotify.com/user/spotify'},\n",
       "     'href': 'https://api.spotify.com/v1/users/spotify',\n",
       "     'id': 'spotify',\n",
       "     'type': 'user',\n",
       "     'uri': 'spotify:user:spotify'},\n",
       "    'primary_color': '#ffffff',\n",
       "    'public': True,\n",
       "    'snapshot_id': 'ZeHnZAAAAADfPaJjhFPXMhClnJNQ7Uu5',\n",
       "    'tracks': {'href': 'https://api.spotify.com/v1/playlists/37i9dQZF1DXcx1szy2g67M/tracks',\n",
       "     'total': 100},\n",
       "    'type': 'playlist',\n",
       "    'uri': 'spotify:playlist:37i9dQZF1DXcx1szy2g67M'},\n",
       "   {'collaborative': False,\n",
       "    'description': 'De beste en nieuwste dance hits. Cover: Indila, BENNETT',\n",
       "    'external_urls': {'spotify': 'https://open.spotify.com/playlist/37i9dQZF1DWTwCImwcYjDL'},\n",
       "    'href': 'https://api.spotify.com/v1/playlists/37i9dQZF1DWTwCImwcYjDL',\n",
       "    'id': '37i9dQZF1DWTwCImwcYjDL',\n",
       "    'images': [{'height': None,\n",
       "      'url': 'https://i.scdn.co/image/ab67706f0000000297aebe9e84460e76fe72153c',\n",
       "      'width': None}],\n",
       "    'name': '360 Dance',\n",
       "    'owner': {'display_name': 'Spotify',\n",
       "     'external_urls': {'spotify': 'https://open.spotify.com/user/spotify'},\n",
       "     'href': 'https://api.spotify.com/v1/users/spotify',\n",
       "     'id': 'spotify',\n",
       "     'type': 'user',\n",
       "     'uri': 'spotify:user:spotify'},\n",
       "    'primary_color': '#ffffff',\n",
       "    'public': True,\n",
       "    'snapshot_id': 'ZeEMcAAAAAAglSBvNF1btm61Tf6vTHsf',\n",
       "    'tracks': {'href': 'https://api.spotify.com/v1/playlists/37i9dQZF1DWTwCImwcYjDL/tracks',\n",
       "     'total': 50},\n",
       "    'type': 'playlist',\n",
       "    'uri': 'spotify:playlist:37i9dQZF1DWTwCImwcYjDL'},\n",
       "   {'collaborative': False,\n",
       "    'description': 'Extra van je vrije tijd genieten voor jong en oud.',\n",
       "    'external_urls': {'spotify': 'https://open.spotify.com/playlist/37i9dQZF1DWSY75PtDqTkW'},\n",
       "    'href': 'https://api.spotify.com/v1/playlists/37i9dQZF1DWSY75PtDqTkW',\n",
       "    'id': '37i9dQZF1DWSY75PtDqTkW',\n",
       "    'images': [{'height': None,\n",
       "      'url': 'https://i.scdn.co/image/ab67706f00000002bceb762106c5a2e1a2d65a19',\n",
       "      'width': None}],\n",
       "    'name': 'Quality Time',\n",
       "    'owner': {'display_name': 'Spotify',\n",
       "     'external_urls': {'spotify': 'https://open.spotify.com/user/spotify'},\n",
       "     'href': 'https://api.spotify.com/v1/users/spotify',\n",
       "     'id': 'spotify',\n",
       "     'type': 'user',\n",
       "     'uri': 'spotify:user:spotify'},\n",
       "    'primary_color': '#ffffff',\n",
       "    'public': True,\n",
       "    'snapshot_id': 'ZcD3iQAAAACKG5cmaafOTHsW8l4+KLiG',\n",
       "    'tracks': {'href': 'https://api.spotify.com/v1/playlists/37i9dQZF1DWSY75PtDqTkW/tracks',\n",
       "     'total': 262},\n",
       "    'type': 'playlist',\n",
       "    'uri': 'spotify:playlist:37i9dQZF1DWSY75PtDqTkW'},\n",
       "   {'collaborative': False,\n",
       "    'description': 'Beste van Hollands en het levenslied. Cover: Robert van Hemert',\n",
       "    'external_urls': {'spotify': 'https://open.spotify.com/playlist/37i9dQZF1DWTS9w7exPdXE'},\n",
       "    'href': 'https://api.spotify.com/v1/playlists/37i9dQZF1DWTS9w7exPdXE',\n",
       "    'id': '37i9dQZF1DWTS9w7exPdXE',\n",
       "    'images': [{'height': None,\n",
       "      'url': 'https://i.scdn.co/image/ab67706f000000029c0a627f4e91b71acde5cdef',\n",
       "      'width': None}],\n",
       "    'name': 'Hollandse Meezingers',\n",
       "    'owner': {'display_name': 'Spotify',\n",
       "     'external_urls': {'spotify': 'https://open.spotify.com/user/spotify'},\n",
       "     'href': 'https://api.spotify.com/v1/users/spotify',\n",
       "     'id': 'spotify',\n",
       "     'type': 'user',\n",
       "     'uri': 'spotify:user:spotify'},\n",
       "    'primary_color': '#ffffff',\n",
       "    'public': True,\n",
       "    'snapshot_id': 'ZeERFwAAAACsPhmPrmHkmtyGlWIVtV5y',\n",
       "    'tracks': {'href': 'https://api.spotify.com/v1/playlists/37i9dQZF1DWTS9w7exPdXE/tracks',\n",
       "     'total': 100},\n",
       "    'type': 'playlist',\n",
       "    'uri': 'spotify:playlist:37i9dQZF1DWTS9w7exPdXE'},\n",
       "   {'collaborative': False,\n",
       "    'description': 'Luister de Radio 2 Top 2000 - 2023 - Editie 25!',\n",
       "    'external_urls': {'spotify': 'https://open.spotify.com/playlist/37i9dQZF1DWTmvXBN4DgpA'},\n",
       "    'href': 'https://api.spotify.com/v1/playlists/37i9dQZF1DWTmvXBN4DgpA',\n",
       "    'id': '37i9dQZF1DWTmvXBN4DgpA',\n",
       "    'images': [{'height': None,\n",
       "      'url': 'https://i.scdn.co/image/ab67706f000000024a3550dfb857569735d6c5ab',\n",
       "      'width': None}],\n",
       "    'name': 'Top 2000',\n",
       "    'owner': {'display_name': 'Spotify',\n",
       "     'external_urls': {'spotify': 'https://open.spotify.com/user/spotify'},\n",
       "     'href': 'https://api.spotify.com/v1/users/spotify',\n",
       "     'id': 'spotify',\n",
       "     'type': 'user',\n",
       "     'uri': 'spotify:user:spotify'},\n",
       "    'primary_color': '#ffffff',\n",
       "    'public': True,\n",
       "    'snapshot_id': 'ZYGBxwAAAACswzcAioEObxrg2sbilaEK',\n",
       "    'tracks': {'href': 'https://api.spotify.com/v1/playlists/37i9dQZF1DWTmvXBN4DgpA/tracks',\n",
       "     'total': 1996},\n",
       "    'type': 'playlist',\n",
       "    'uri': 'spotify:playlist:37i9dQZF1DWTmvXBN4DgpA'},\n",
       "   {'collaborative': False,\n",
       "    'description': 'This is Joost. The essential tracks, all in one playlist.',\n",
       "    'external_urls': {'spotify': 'https://open.spotify.com/playlist/37i9dQZF1DZ06evO3Og4YF'},\n",
       "    'href': 'https://api.spotify.com/v1/playlists/37i9dQZF1DZ06evO3Og4YF',\n",
       "    'id': '37i9dQZF1DZ06evO3Og4YF',\n",
       "    'images': [{'height': None,\n",
       "      'url': 'https://thisis-images.spotifycdn.com/37i9dQZF1DZ06evO3Og4YF-default.jpg',\n",
       "      'width': None}],\n",
       "    'name': 'This Is Joost',\n",
       "    'owner': {'display_name': 'Spotify',\n",
       "     'external_urls': {'spotify': 'https://open.spotify.com/user/spotify'},\n",
       "     'href': 'https://api.spotify.com/v1/users/spotify',\n",
       "     'id': 'spotify',\n",
       "     'type': 'user',\n",
       "     'uri': 'spotify:user:spotify'},\n",
       "    'primary_color': None,\n",
       "    'public': True,\n",
       "    'snapshot_id': 'AbLDGQAAAAACQhv1GMLtssm5rNNUuyLt',\n",
       "    'tracks': {'href': 'https://api.spotify.com/v1/playlists/37i9dQZF1DZ06evO3Og4YF/tracks',\n",
       "     'total': 51},\n",
       "    'type': 'playlist',\n",
       "    'uri': 'spotify:playlist:37i9dQZF1DZ06evO3Og4YF'},\n",
       "   {'collaborative': False,\n",
       "    'description': 'Splash and sing-along.',\n",
       "    'external_urls': {'spotify': 'https://open.spotify.com/playlist/37i9dQZF1DWSqmBTGDYngZ'},\n",
       "    'href': 'https://api.spotify.com/v1/playlists/37i9dQZF1DWSqmBTGDYngZ',\n",
       "    'id': '37i9dQZF1DWSqmBTGDYngZ',\n",
       "    'images': [{'height': None,\n",
       "      'url': 'https://i.scdn.co/image/ab67706f00000002329e2c5d3104f8c6a1d16a34',\n",
       "      'width': None}],\n",
       "    'name': 'Songs to Sing in the Shower',\n",
       "    'owner': {'display_name': 'Spotify',\n",
       "     'external_urls': {'spotify': 'https://open.spotify.com/user/spotify'},\n",
       "     'href': 'https://api.spotify.com/v1/users/spotify',\n",
       "     'id': 'spotify',\n",
       "     'type': 'user',\n",
       "     'uri': 'spotify:user:spotify'},\n",
       "    'primary_color': '#ffffff',\n",
       "    'public': True,\n",
       "    'snapshot_id': 'ZcxByAAAAADhfVXOUVWKEsyYluZ67Nc1',\n",
       "    'tracks': {'href': 'https://api.spotify.com/v1/playlists/37i9dQZF1DWSqmBTGDYngZ/tracks',\n",
       "     'total': 200},\n",
       "    'type': 'playlist',\n",
       "    'uri': 'spotify:playlist:37i9dQZF1DWSqmBTGDYngZ'},\n",
       "   {'collaborative': False,\n",
       "    'description': 'Sing along and enjoy the drive',\n",
       "    'external_urls': {'spotify': 'https://open.spotify.com/playlist/37i9dQZF1DWWMOmoXKqHTD'},\n",
       "    'href': 'https://api.spotify.com/v1/playlists/37i9dQZF1DWWMOmoXKqHTD',\n",
       "    'id': '37i9dQZF1DWWMOmoXKqHTD',\n",
       "    'images': [{'height': None,\n",
       "      'url': 'https://i.scdn.co/image/ab67706f000000025f413a23f7469b59cc462928',\n",
       "      'width': None}],\n",
       "    'name': 'Songs to Sing in the Car',\n",
       "    'owner': {'display_name': 'Spotify',\n",
       "     'external_urls': {'spotify': 'https://open.spotify.com/user/spotify'},\n",
       "     'href': 'https://api.spotify.com/v1/users/spotify',\n",
       "     'id': 'spotify',\n",
       "     'type': 'user',\n",
       "     'uri': 'spotify:user:spotify'},\n",
       "    'primary_color': '#ffffff',\n",
       "    'public': True,\n",
       "    'snapshot_id': 'ZdYeJAAAAADru0doLimcXTZjwawuYznt',\n",
       "    'tracks': {'href': 'https://api.spotify.com/v1/playlists/37i9dQZF1DWWMOmoXKqHTD/tracks',\n",
       "     'total': 100},\n",
       "    'type': 'playlist',\n",
       "    'uri': 'spotify:playlist:37i9dQZF1DWWMOmoXKqHTD'}],\n",
       "  'limit': 20,\n",
       "  'next': 'https://api.spotify.com/v1/browse/featured-playlists?offset=20&limit=20',\n",
       "  'offset': 0,\n",
       "  'previous': None,\n",
       "  'total': 100}}"
      ]
     },
     "execution_count": 37,
     "metadata": {},
     "output_type": "execute_result"
    }
   ],
   "source": [
    "sp.featured_playlists() # We get a playlist id of a playlist we like"
   ]
  },
  {
   "cell_type": "markdown",
   "id": "90f558f3-c638-4df4-b5a4-e24f7847d52a",
   "metadata": {},
   "source": [
    "### Getting a Playlist's Details\n",
    "To fetch details about a specific playlist, you can use the playlist method. You'll need the playlist's Spotify ID."
   ]
  },
  {
   "cell_type": "markdown",
   "id": "0eef529f-617f-4ea3-8156-07472ac8e6d5",
   "metadata": {},
   "source": [
    "In this example, we will use the following playlist id: *37i9dQZF1DXd9zR7tdziuQ*"
   ]
  },
  {
   "cell_type": "code",
   "execution_count": 39,
   "id": "46d35121-9256-4cf4-81f5-118b87f7af32",
   "metadata": {},
   "outputs": [
    {
     "ename": "ConnectionError",
     "evalue": "('Connection aborted.', RemoteDisconnected('Remote end closed connection without response'))",
     "output_type": "error",
     "traceback": [
      "\u001b[0;31m---------------------------------------------------------------------------\u001b[0m",
      "\u001b[0;31mRemoteDisconnected\u001b[0m                        Traceback (most recent call last)",
      "File \u001b[0;32m~/anaconda3/lib/python3.11/site-packages/urllib3/connectionpool.py:714\u001b[0m, in \u001b[0;36mHTTPConnectionPool.urlopen\u001b[0;34m(self, method, url, body, headers, retries, redirect, assert_same_host, timeout, pool_timeout, release_conn, chunked, body_pos, **response_kw)\u001b[0m\n\u001b[1;32m    713\u001b[0m \u001b[38;5;66;03m# Make the request on the httplib connection object.\u001b[39;00m\n\u001b[0;32m--> 714\u001b[0m httplib_response \u001b[38;5;241m=\u001b[39m \u001b[38;5;28mself\u001b[39m\u001b[38;5;241m.\u001b[39m_make_request(\n\u001b[1;32m    715\u001b[0m     conn,\n\u001b[1;32m    716\u001b[0m     method,\n\u001b[1;32m    717\u001b[0m     url,\n\u001b[1;32m    718\u001b[0m     timeout\u001b[38;5;241m=\u001b[39mtimeout_obj,\n\u001b[1;32m    719\u001b[0m     body\u001b[38;5;241m=\u001b[39mbody,\n\u001b[1;32m    720\u001b[0m     headers\u001b[38;5;241m=\u001b[39mheaders,\n\u001b[1;32m    721\u001b[0m     chunked\u001b[38;5;241m=\u001b[39mchunked,\n\u001b[1;32m    722\u001b[0m )\n\u001b[1;32m    724\u001b[0m \u001b[38;5;66;03m# If we're going to release the connection in ``finally:``, then\u001b[39;00m\n\u001b[1;32m    725\u001b[0m \u001b[38;5;66;03m# the response doesn't need to know about the connection. Otherwise\u001b[39;00m\n\u001b[1;32m    726\u001b[0m \u001b[38;5;66;03m# it will also try to release it and we'll have a double-release\u001b[39;00m\n\u001b[1;32m    727\u001b[0m \u001b[38;5;66;03m# mess.\u001b[39;00m\n",
      "File \u001b[0;32m~/anaconda3/lib/python3.11/site-packages/urllib3/connectionpool.py:466\u001b[0m, in \u001b[0;36mHTTPConnectionPool._make_request\u001b[0;34m(self, conn, method, url, timeout, chunked, **httplib_request_kw)\u001b[0m\n\u001b[1;32m    462\u001b[0m         \u001b[38;5;28;01mexcept\u001b[39;00m \u001b[38;5;167;01mBaseException\u001b[39;00m \u001b[38;5;28;01mas\u001b[39;00m e:\n\u001b[1;32m    463\u001b[0m             \u001b[38;5;66;03m# Remove the TypeError from the exception chain in\u001b[39;00m\n\u001b[1;32m    464\u001b[0m             \u001b[38;5;66;03m# Python 3 (including for exceptions like SystemExit).\u001b[39;00m\n\u001b[1;32m    465\u001b[0m             \u001b[38;5;66;03m# Otherwise it looks like a bug in the code.\u001b[39;00m\n\u001b[0;32m--> 466\u001b[0m             six\u001b[38;5;241m.\u001b[39mraise_from(e, \u001b[38;5;28;01mNone\u001b[39;00m)\n\u001b[1;32m    467\u001b[0m \u001b[38;5;28;01mexcept\u001b[39;00m (SocketTimeout, BaseSSLError, SocketError) \u001b[38;5;28;01mas\u001b[39;00m e:\n",
      "File \u001b[0;32m<string>:3\u001b[0m, in \u001b[0;36mraise_from\u001b[0;34m(value, from_value)\u001b[0m\n",
      "File \u001b[0;32m~/anaconda3/lib/python3.11/site-packages/urllib3/connectionpool.py:461\u001b[0m, in \u001b[0;36mHTTPConnectionPool._make_request\u001b[0;34m(self, conn, method, url, timeout, chunked, **httplib_request_kw)\u001b[0m\n\u001b[1;32m    460\u001b[0m \u001b[38;5;28;01mtry\u001b[39;00m:\n\u001b[0;32m--> 461\u001b[0m     httplib_response \u001b[38;5;241m=\u001b[39m conn\u001b[38;5;241m.\u001b[39mgetresponse()\n\u001b[1;32m    462\u001b[0m \u001b[38;5;28;01mexcept\u001b[39;00m \u001b[38;5;167;01mBaseException\u001b[39;00m \u001b[38;5;28;01mas\u001b[39;00m e:\n\u001b[1;32m    463\u001b[0m     \u001b[38;5;66;03m# Remove the TypeError from the exception chain in\u001b[39;00m\n\u001b[1;32m    464\u001b[0m     \u001b[38;5;66;03m# Python 3 (including for exceptions like SystemExit).\u001b[39;00m\n\u001b[1;32m    465\u001b[0m     \u001b[38;5;66;03m# Otherwise it looks like a bug in the code.\u001b[39;00m\n",
      "File \u001b[0;32m~/anaconda3/lib/python3.11/http/client.py:1378\u001b[0m, in \u001b[0;36mHTTPConnection.getresponse\u001b[0;34m(self)\u001b[0m\n\u001b[1;32m   1377\u001b[0m \u001b[38;5;28;01mtry\u001b[39;00m:\n\u001b[0;32m-> 1378\u001b[0m     response\u001b[38;5;241m.\u001b[39mbegin()\n\u001b[1;32m   1379\u001b[0m \u001b[38;5;28;01mexcept\u001b[39;00m \u001b[38;5;167;01mConnectionError\u001b[39;00m:\n",
      "File \u001b[0;32m~/anaconda3/lib/python3.11/http/client.py:318\u001b[0m, in \u001b[0;36mHTTPResponse.begin\u001b[0;34m(self)\u001b[0m\n\u001b[1;32m    317\u001b[0m \u001b[38;5;28;01mwhile\u001b[39;00m \u001b[38;5;28;01mTrue\u001b[39;00m:\n\u001b[0;32m--> 318\u001b[0m     version, status, reason \u001b[38;5;241m=\u001b[39m \u001b[38;5;28mself\u001b[39m\u001b[38;5;241m.\u001b[39m_read_status()\n\u001b[1;32m    319\u001b[0m     \u001b[38;5;28;01mif\u001b[39;00m status \u001b[38;5;241m!=\u001b[39m CONTINUE:\n",
      "File \u001b[0;32m~/anaconda3/lib/python3.11/http/client.py:287\u001b[0m, in \u001b[0;36mHTTPResponse._read_status\u001b[0;34m(self)\u001b[0m\n\u001b[1;32m    284\u001b[0m \u001b[38;5;28;01mif\u001b[39;00m \u001b[38;5;129;01mnot\u001b[39;00m line:\n\u001b[1;32m    285\u001b[0m     \u001b[38;5;66;03m# Presumably, the server closed the connection before\u001b[39;00m\n\u001b[1;32m    286\u001b[0m     \u001b[38;5;66;03m# sending a valid response.\u001b[39;00m\n\u001b[0;32m--> 287\u001b[0m     \u001b[38;5;28;01mraise\u001b[39;00m RemoteDisconnected(\u001b[38;5;124m\"\u001b[39m\u001b[38;5;124mRemote end closed connection without\u001b[39m\u001b[38;5;124m\"\u001b[39m\n\u001b[1;32m    288\u001b[0m                              \u001b[38;5;124m\"\u001b[39m\u001b[38;5;124m response\u001b[39m\u001b[38;5;124m\"\u001b[39m)\n\u001b[1;32m    289\u001b[0m \u001b[38;5;28;01mtry\u001b[39;00m:\n",
      "\u001b[0;31mRemoteDisconnected\u001b[0m: Remote end closed connection without response",
      "\nDuring handling of the above exception, another exception occurred:\n",
      "\u001b[0;31mProtocolError\u001b[0m                             Traceback (most recent call last)",
      "File \u001b[0;32m~/anaconda3/lib/python3.11/site-packages/requests/adapters.py:486\u001b[0m, in \u001b[0;36mHTTPAdapter.send\u001b[0;34m(self, request, stream, timeout, verify, cert, proxies)\u001b[0m\n\u001b[1;32m    485\u001b[0m \u001b[38;5;28;01mtry\u001b[39;00m:\n\u001b[0;32m--> 486\u001b[0m     resp \u001b[38;5;241m=\u001b[39m conn\u001b[38;5;241m.\u001b[39murlopen(\n\u001b[1;32m    487\u001b[0m         method\u001b[38;5;241m=\u001b[39mrequest\u001b[38;5;241m.\u001b[39mmethod,\n\u001b[1;32m    488\u001b[0m         url\u001b[38;5;241m=\u001b[39murl,\n\u001b[1;32m    489\u001b[0m         body\u001b[38;5;241m=\u001b[39mrequest\u001b[38;5;241m.\u001b[39mbody,\n\u001b[1;32m    490\u001b[0m         headers\u001b[38;5;241m=\u001b[39mrequest\u001b[38;5;241m.\u001b[39mheaders,\n\u001b[1;32m    491\u001b[0m         redirect\u001b[38;5;241m=\u001b[39m\u001b[38;5;28;01mFalse\u001b[39;00m,\n\u001b[1;32m    492\u001b[0m         assert_same_host\u001b[38;5;241m=\u001b[39m\u001b[38;5;28;01mFalse\u001b[39;00m,\n\u001b[1;32m    493\u001b[0m         preload_content\u001b[38;5;241m=\u001b[39m\u001b[38;5;28;01mFalse\u001b[39;00m,\n\u001b[1;32m    494\u001b[0m         decode_content\u001b[38;5;241m=\u001b[39m\u001b[38;5;28;01mFalse\u001b[39;00m,\n\u001b[1;32m    495\u001b[0m         retries\u001b[38;5;241m=\u001b[39m\u001b[38;5;28mself\u001b[39m\u001b[38;5;241m.\u001b[39mmax_retries,\n\u001b[1;32m    496\u001b[0m         timeout\u001b[38;5;241m=\u001b[39mtimeout,\n\u001b[1;32m    497\u001b[0m         chunked\u001b[38;5;241m=\u001b[39mchunked,\n\u001b[1;32m    498\u001b[0m     )\n\u001b[1;32m    500\u001b[0m \u001b[38;5;28;01mexcept\u001b[39;00m (ProtocolError, \u001b[38;5;167;01mOSError\u001b[39;00m) \u001b[38;5;28;01mas\u001b[39;00m err:\n",
      "File \u001b[0;32m~/anaconda3/lib/python3.11/site-packages/urllib3/connectionpool.py:798\u001b[0m, in \u001b[0;36mHTTPConnectionPool.urlopen\u001b[0;34m(self, method, url, body, headers, retries, redirect, assert_same_host, timeout, pool_timeout, release_conn, chunked, body_pos, **response_kw)\u001b[0m\n\u001b[1;32m    796\u001b[0m     e \u001b[38;5;241m=\u001b[39m ProtocolError(\u001b[38;5;124m\"\u001b[39m\u001b[38;5;124mConnection aborted.\u001b[39m\u001b[38;5;124m\"\u001b[39m, e)\n\u001b[0;32m--> 798\u001b[0m retries \u001b[38;5;241m=\u001b[39m retries\u001b[38;5;241m.\u001b[39mincrement(\n\u001b[1;32m    799\u001b[0m     method, url, error\u001b[38;5;241m=\u001b[39me, _pool\u001b[38;5;241m=\u001b[39m\u001b[38;5;28mself\u001b[39m, _stacktrace\u001b[38;5;241m=\u001b[39msys\u001b[38;5;241m.\u001b[39mexc_info()[\u001b[38;5;241m2\u001b[39m]\n\u001b[1;32m    800\u001b[0m )\n\u001b[1;32m    801\u001b[0m retries\u001b[38;5;241m.\u001b[39msleep()\n",
      "File \u001b[0;32m~/anaconda3/lib/python3.11/site-packages/urllib3/util/retry.py:550\u001b[0m, in \u001b[0;36mRetry.increment\u001b[0;34m(self, method, url, response, error, _pool, _stacktrace)\u001b[0m\n\u001b[1;32m    549\u001b[0m \u001b[38;5;28;01mif\u001b[39;00m read \u001b[38;5;129;01mis\u001b[39;00m \u001b[38;5;28;01mFalse\u001b[39;00m \u001b[38;5;129;01mor\u001b[39;00m \u001b[38;5;129;01mnot\u001b[39;00m \u001b[38;5;28mself\u001b[39m\u001b[38;5;241m.\u001b[39m_is_method_retryable(method):\n\u001b[0;32m--> 550\u001b[0m     \u001b[38;5;28;01mraise\u001b[39;00m six\u001b[38;5;241m.\u001b[39mreraise(\u001b[38;5;28mtype\u001b[39m(error), error, _stacktrace)\n\u001b[1;32m    551\u001b[0m \u001b[38;5;28;01melif\u001b[39;00m read \u001b[38;5;129;01mis\u001b[39;00m \u001b[38;5;129;01mnot\u001b[39;00m \u001b[38;5;28;01mNone\u001b[39;00m:\n",
      "File \u001b[0;32m~/anaconda3/lib/python3.11/site-packages/urllib3/packages/six.py:769\u001b[0m, in \u001b[0;36mreraise\u001b[0;34m(tp, value, tb)\u001b[0m\n\u001b[1;32m    768\u001b[0m \u001b[38;5;28;01mif\u001b[39;00m value\u001b[38;5;241m.\u001b[39m__traceback__ \u001b[38;5;129;01mis\u001b[39;00m \u001b[38;5;129;01mnot\u001b[39;00m tb:\n\u001b[0;32m--> 769\u001b[0m     \u001b[38;5;28;01mraise\u001b[39;00m value\u001b[38;5;241m.\u001b[39mwith_traceback(tb)\n\u001b[1;32m    770\u001b[0m \u001b[38;5;28;01mraise\u001b[39;00m value\n",
      "File \u001b[0;32m~/anaconda3/lib/python3.11/site-packages/urllib3/connectionpool.py:714\u001b[0m, in \u001b[0;36mHTTPConnectionPool.urlopen\u001b[0;34m(self, method, url, body, headers, retries, redirect, assert_same_host, timeout, pool_timeout, release_conn, chunked, body_pos, **response_kw)\u001b[0m\n\u001b[1;32m    713\u001b[0m \u001b[38;5;66;03m# Make the request on the httplib connection object.\u001b[39;00m\n\u001b[0;32m--> 714\u001b[0m httplib_response \u001b[38;5;241m=\u001b[39m \u001b[38;5;28mself\u001b[39m\u001b[38;5;241m.\u001b[39m_make_request(\n\u001b[1;32m    715\u001b[0m     conn,\n\u001b[1;32m    716\u001b[0m     method,\n\u001b[1;32m    717\u001b[0m     url,\n\u001b[1;32m    718\u001b[0m     timeout\u001b[38;5;241m=\u001b[39mtimeout_obj,\n\u001b[1;32m    719\u001b[0m     body\u001b[38;5;241m=\u001b[39mbody,\n\u001b[1;32m    720\u001b[0m     headers\u001b[38;5;241m=\u001b[39mheaders,\n\u001b[1;32m    721\u001b[0m     chunked\u001b[38;5;241m=\u001b[39mchunked,\n\u001b[1;32m    722\u001b[0m )\n\u001b[1;32m    724\u001b[0m \u001b[38;5;66;03m# If we're going to release the connection in ``finally:``, then\u001b[39;00m\n\u001b[1;32m    725\u001b[0m \u001b[38;5;66;03m# the response doesn't need to know about the connection. Otherwise\u001b[39;00m\n\u001b[1;32m    726\u001b[0m \u001b[38;5;66;03m# it will also try to release it and we'll have a double-release\u001b[39;00m\n\u001b[1;32m    727\u001b[0m \u001b[38;5;66;03m# mess.\u001b[39;00m\n",
      "File \u001b[0;32m~/anaconda3/lib/python3.11/site-packages/urllib3/connectionpool.py:466\u001b[0m, in \u001b[0;36mHTTPConnectionPool._make_request\u001b[0;34m(self, conn, method, url, timeout, chunked, **httplib_request_kw)\u001b[0m\n\u001b[1;32m    462\u001b[0m         \u001b[38;5;28;01mexcept\u001b[39;00m \u001b[38;5;167;01mBaseException\u001b[39;00m \u001b[38;5;28;01mas\u001b[39;00m e:\n\u001b[1;32m    463\u001b[0m             \u001b[38;5;66;03m# Remove the TypeError from the exception chain in\u001b[39;00m\n\u001b[1;32m    464\u001b[0m             \u001b[38;5;66;03m# Python 3 (including for exceptions like SystemExit).\u001b[39;00m\n\u001b[1;32m    465\u001b[0m             \u001b[38;5;66;03m# Otherwise it looks like a bug in the code.\u001b[39;00m\n\u001b[0;32m--> 466\u001b[0m             six\u001b[38;5;241m.\u001b[39mraise_from(e, \u001b[38;5;28;01mNone\u001b[39;00m)\n\u001b[1;32m    467\u001b[0m \u001b[38;5;28;01mexcept\u001b[39;00m (SocketTimeout, BaseSSLError, SocketError) \u001b[38;5;28;01mas\u001b[39;00m e:\n",
      "File \u001b[0;32m<string>:3\u001b[0m, in \u001b[0;36mraise_from\u001b[0;34m(value, from_value)\u001b[0m\n",
      "File \u001b[0;32m~/anaconda3/lib/python3.11/site-packages/urllib3/connectionpool.py:461\u001b[0m, in \u001b[0;36mHTTPConnectionPool._make_request\u001b[0;34m(self, conn, method, url, timeout, chunked, **httplib_request_kw)\u001b[0m\n\u001b[1;32m    460\u001b[0m \u001b[38;5;28;01mtry\u001b[39;00m:\n\u001b[0;32m--> 461\u001b[0m     httplib_response \u001b[38;5;241m=\u001b[39m conn\u001b[38;5;241m.\u001b[39mgetresponse()\n\u001b[1;32m    462\u001b[0m \u001b[38;5;28;01mexcept\u001b[39;00m \u001b[38;5;167;01mBaseException\u001b[39;00m \u001b[38;5;28;01mas\u001b[39;00m e:\n\u001b[1;32m    463\u001b[0m     \u001b[38;5;66;03m# Remove the TypeError from the exception chain in\u001b[39;00m\n\u001b[1;32m    464\u001b[0m     \u001b[38;5;66;03m# Python 3 (including for exceptions like SystemExit).\u001b[39;00m\n\u001b[1;32m    465\u001b[0m     \u001b[38;5;66;03m# Otherwise it looks like a bug in the code.\u001b[39;00m\n",
      "File \u001b[0;32m~/anaconda3/lib/python3.11/http/client.py:1378\u001b[0m, in \u001b[0;36mHTTPConnection.getresponse\u001b[0;34m(self)\u001b[0m\n\u001b[1;32m   1377\u001b[0m \u001b[38;5;28;01mtry\u001b[39;00m:\n\u001b[0;32m-> 1378\u001b[0m     response\u001b[38;5;241m.\u001b[39mbegin()\n\u001b[1;32m   1379\u001b[0m \u001b[38;5;28;01mexcept\u001b[39;00m \u001b[38;5;167;01mConnectionError\u001b[39;00m:\n",
      "File \u001b[0;32m~/anaconda3/lib/python3.11/http/client.py:318\u001b[0m, in \u001b[0;36mHTTPResponse.begin\u001b[0;34m(self)\u001b[0m\n\u001b[1;32m    317\u001b[0m \u001b[38;5;28;01mwhile\u001b[39;00m \u001b[38;5;28;01mTrue\u001b[39;00m:\n\u001b[0;32m--> 318\u001b[0m     version, status, reason \u001b[38;5;241m=\u001b[39m \u001b[38;5;28mself\u001b[39m\u001b[38;5;241m.\u001b[39m_read_status()\n\u001b[1;32m    319\u001b[0m     \u001b[38;5;28;01mif\u001b[39;00m status \u001b[38;5;241m!=\u001b[39m CONTINUE:\n",
      "File \u001b[0;32m~/anaconda3/lib/python3.11/http/client.py:287\u001b[0m, in \u001b[0;36mHTTPResponse._read_status\u001b[0;34m(self)\u001b[0m\n\u001b[1;32m    284\u001b[0m \u001b[38;5;28;01mif\u001b[39;00m \u001b[38;5;129;01mnot\u001b[39;00m line:\n\u001b[1;32m    285\u001b[0m     \u001b[38;5;66;03m# Presumably, the server closed the connection before\u001b[39;00m\n\u001b[1;32m    286\u001b[0m     \u001b[38;5;66;03m# sending a valid response.\u001b[39;00m\n\u001b[0;32m--> 287\u001b[0m     \u001b[38;5;28;01mraise\u001b[39;00m RemoteDisconnected(\u001b[38;5;124m\"\u001b[39m\u001b[38;5;124mRemote end closed connection without\u001b[39m\u001b[38;5;124m\"\u001b[39m\n\u001b[1;32m    288\u001b[0m                              \u001b[38;5;124m\"\u001b[39m\u001b[38;5;124m response\u001b[39m\u001b[38;5;124m\"\u001b[39m)\n\u001b[1;32m    289\u001b[0m \u001b[38;5;28;01mtry\u001b[39;00m:\n",
      "\u001b[0;31mProtocolError\u001b[0m: ('Connection aborted.', RemoteDisconnected('Remote end closed connection without response'))",
      "\nDuring handling of the above exception, another exception occurred:\n",
      "\u001b[0;31mConnectionError\u001b[0m                           Traceback (most recent call last)",
      "Cell \u001b[0;32mIn[39], line 2\u001b[0m\n\u001b[1;32m      1\u001b[0m playlist_id \u001b[38;5;241m=\u001b[39m \u001b[38;5;124m\"\u001b[39m\u001b[38;5;124m37i9dQZF1DXd9zR7tdziuQ\u001b[39m\u001b[38;5;124m\"\u001b[39m\n\u001b[0;32m----> 2\u001b[0m playlist \u001b[38;5;241m=\u001b[39m sp\u001b[38;5;241m.\u001b[39mplaylist(playlist_id)\n",
      "File \u001b[0;32m~/anaconda3/lib/python3.11/site-packages/spotipy/client.py:651\u001b[0m, in \u001b[0;36mSpotify.playlist\u001b[0;34m(self, playlist_id, fields, market, additional_types)\u001b[0m\n\u001b[1;32m    640\u001b[0m \u001b[38;5;250m\u001b[39m\u001b[38;5;124;03m\"\"\" Gets playlist by id.\u001b[39;00m\n\u001b[1;32m    641\u001b[0m \n\u001b[1;32m    642\u001b[0m \u001b[38;5;124;03m    Parameters:\u001b[39;00m\n\u001b[0;32m   (...)\u001b[0m\n\u001b[1;32m    648\u001b[0m \u001b[38;5;124;03m                             valid types are: track and episode\u001b[39;00m\n\u001b[1;32m    649\u001b[0m \u001b[38;5;124;03m\"\"\"\u001b[39;00m\n\u001b[1;32m    650\u001b[0m plid \u001b[38;5;241m=\u001b[39m \u001b[38;5;28mself\u001b[39m\u001b[38;5;241m.\u001b[39m_get_id(\u001b[38;5;124m\"\u001b[39m\u001b[38;5;124mplaylist\u001b[39m\u001b[38;5;124m\"\u001b[39m, playlist_id)\n\u001b[0;32m--> 651\u001b[0m \u001b[38;5;28;01mreturn\u001b[39;00m \u001b[38;5;28mself\u001b[39m\u001b[38;5;241m.\u001b[39m_get(\n\u001b[1;32m    652\u001b[0m     \u001b[38;5;124m\"\u001b[39m\u001b[38;5;124mplaylists/\u001b[39m\u001b[38;5;132;01m%s\u001b[39;00m\u001b[38;5;124m\"\u001b[39m \u001b[38;5;241m%\u001b[39m (plid),\n\u001b[1;32m    653\u001b[0m     fields\u001b[38;5;241m=\u001b[39mfields,\n\u001b[1;32m    654\u001b[0m     market\u001b[38;5;241m=\u001b[39mmarket,\n\u001b[1;32m    655\u001b[0m     additional_types\u001b[38;5;241m=\u001b[39m\u001b[38;5;124m\"\u001b[39m\u001b[38;5;124m,\u001b[39m\u001b[38;5;124m\"\u001b[39m\u001b[38;5;241m.\u001b[39mjoin(additional_types),\n\u001b[1;32m    656\u001b[0m )\n",
      "File \u001b[0;32m~/anaconda3/lib/python3.11/site-packages/spotipy/client.py:323\u001b[0m, in \u001b[0;36mSpotify._get\u001b[0;34m(self, url, args, payload, **kwargs)\u001b[0m\n\u001b[1;32m    320\u001b[0m \u001b[38;5;28;01mif\u001b[39;00m args:\n\u001b[1;32m    321\u001b[0m     kwargs\u001b[38;5;241m.\u001b[39mupdate(args)\n\u001b[0;32m--> 323\u001b[0m \u001b[38;5;28;01mreturn\u001b[39;00m \u001b[38;5;28mself\u001b[39m\u001b[38;5;241m.\u001b[39m_internal_call(\u001b[38;5;124m\"\u001b[39m\u001b[38;5;124mGET\u001b[39m\u001b[38;5;124m\"\u001b[39m, url, payload, kwargs)\n",
      "File \u001b[0;32m~/anaconda3/lib/python3.11/site-packages/spotipy/client.py:266\u001b[0m, in \u001b[0;36mSpotify._internal_call\u001b[0;34m(self, method, url, payload, params)\u001b[0m\n\u001b[1;32m    262\u001b[0m logger\u001b[38;5;241m.\u001b[39mdebug(\u001b[38;5;124m'\u001b[39m\u001b[38;5;124mSending \u001b[39m\u001b[38;5;132;01m%s\u001b[39;00m\u001b[38;5;124m to \u001b[39m\u001b[38;5;132;01m%s\u001b[39;00m\u001b[38;5;124m with Params: \u001b[39m\u001b[38;5;132;01m%s\u001b[39;00m\u001b[38;5;124m Headers: \u001b[39m\u001b[38;5;132;01m%s\u001b[39;00m\u001b[38;5;124m and Body: \u001b[39m\u001b[38;5;132;01m%r\u001b[39;00m\u001b[38;5;124m \u001b[39m\u001b[38;5;124m'\u001b[39m,\n\u001b[1;32m    263\u001b[0m              method, url, args\u001b[38;5;241m.\u001b[39mget(\u001b[38;5;124m\"\u001b[39m\u001b[38;5;124mparams\u001b[39m\u001b[38;5;124m\"\u001b[39m), headers, args\u001b[38;5;241m.\u001b[39mget(\u001b[38;5;124m'\u001b[39m\u001b[38;5;124mdata\u001b[39m\u001b[38;5;124m'\u001b[39m))\n\u001b[1;32m    265\u001b[0m \u001b[38;5;28;01mtry\u001b[39;00m:\n\u001b[0;32m--> 266\u001b[0m     response \u001b[38;5;241m=\u001b[39m \u001b[38;5;28mself\u001b[39m\u001b[38;5;241m.\u001b[39m_session\u001b[38;5;241m.\u001b[39mrequest(\n\u001b[1;32m    267\u001b[0m         method, url, headers\u001b[38;5;241m=\u001b[39mheaders, proxies\u001b[38;5;241m=\u001b[39m\u001b[38;5;28mself\u001b[39m\u001b[38;5;241m.\u001b[39mproxies,\n\u001b[1;32m    268\u001b[0m         timeout\u001b[38;5;241m=\u001b[39m\u001b[38;5;28mself\u001b[39m\u001b[38;5;241m.\u001b[39mrequests_timeout, \u001b[38;5;241m*\u001b[39m\u001b[38;5;241m*\u001b[39margs\n\u001b[1;32m    269\u001b[0m     )\n\u001b[1;32m    271\u001b[0m     response\u001b[38;5;241m.\u001b[39mraise_for_status()\n\u001b[1;32m    272\u001b[0m     results \u001b[38;5;241m=\u001b[39m response\u001b[38;5;241m.\u001b[39mjson()\n",
      "File \u001b[0;32m~/anaconda3/lib/python3.11/site-packages/requests/sessions.py:589\u001b[0m, in \u001b[0;36mSession.request\u001b[0;34m(self, method, url, params, data, headers, cookies, files, auth, timeout, allow_redirects, proxies, hooks, stream, verify, cert, json)\u001b[0m\n\u001b[1;32m    584\u001b[0m send_kwargs \u001b[38;5;241m=\u001b[39m {\n\u001b[1;32m    585\u001b[0m     \u001b[38;5;124m\"\u001b[39m\u001b[38;5;124mtimeout\u001b[39m\u001b[38;5;124m\"\u001b[39m: timeout,\n\u001b[1;32m    586\u001b[0m     \u001b[38;5;124m\"\u001b[39m\u001b[38;5;124mallow_redirects\u001b[39m\u001b[38;5;124m\"\u001b[39m: allow_redirects,\n\u001b[1;32m    587\u001b[0m }\n\u001b[1;32m    588\u001b[0m send_kwargs\u001b[38;5;241m.\u001b[39mupdate(settings)\n\u001b[0;32m--> 589\u001b[0m resp \u001b[38;5;241m=\u001b[39m \u001b[38;5;28mself\u001b[39m\u001b[38;5;241m.\u001b[39msend(prep, \u001b[38;5;241m*\u001b[39m\u001b[38;5;241m*\u001b[39msend_kwargs)\n\u001b[1;32m    591\u001b[0m \u001b[38;5;28;01mreturn\u001b[39;00m resp\n",
      "File \u001b[0;32m~/anaconda3/lib/python3.11/site-packages/requests/sessions.py:703\u001b[0m, in \u001b[0;36mSession.send\u001b[0;34m(self, request, **kwargs)\u001b[0m\n\u001b[1;32m    700\u001b[0m start \u001b[38;5;241m=\u001b[39m preferred_clock()\n\u001b[1;32m    702\u001b[0m \u001b[38;5;66;03m# Send the request\u001b[39;00m\n\u001b[0;32m--> 703\u001b[0m r \u001b[38;5;241m=\u001b[39m adapter\u001b[38;5;241m.\u001b[39msend(request, \u001b[38;5;241m*\u001b[39m\u001b[38;5;241m*\u001b[39mkwargs)\n\u001b[1;32m    705\u001b[0m \u001b[38;5;66;03m# Total elapsed time of the request (approximately)\u001b[39;00m\n\u001b[1;32m    706\u001b[0m elapsed \u001b[38;5;241m=\u001b[39m preferred_clock() \u001b[38;5;241m-\u001b[39m start\n",
      "File \u001b[0;32m~/anaconda3/lib/python3.11/site-packages/requests/adapters.py:501\u001b[0m, in \u001b[0;36mHTTPAdapter.send\u001b[0;34m(self, request, stream, timeout, verify, cert, proxies)\u001b[0m\n\u001b[1;32m    486\u001b[0m     resp \u001b[38;5;241m=\u001b[39m conn\u001b[38;5;241m.\u001b[39murlopen(\n\u001b[1;32m    487\u001b[0m         method\u001b[38;5;241m=\u001b[39mrequest\u001b[38;5;241m.\u001b[39mmethod,\n\u001b[1;32m    488\u001b[0m         url\u001b[38;5;241m=\u001b[39murl,\n\u001b[0;32m   (...)\u001b[0m\n\u001b[1;32m    497\u001b[0m         chunked\u001b[38;5;241m=\u001b[39mchunked,\n\u001b[1;32m    498\u001b[0m     )\n\u001b[1;32m    500\u001b[0m \u001b[38;5;28;01mexcept\u001b[39;00m (ProtocolError, \u001b[38;5;167;01mOSError\u001b[39;00m) \u001b[38;5;28;01mas\u001b[39;00m err:\n\u001b[0;32m--> 501\u001b[0m     \u001b[38;5;28;01mraise\u001b[39;00m \u001b[38;5;167;01mConnectionError\u001b[39;00m(err, request\u001b[38;5;241m=\u001b[39mrequest)\n\u001b[1;32m    503\u001b[0m \u001b[38;5;28;01mexcept\u001b[39;00m MaxRetryError \u001b[38;5;28;01mas\u001b[39;00m e:\n\u001b[1;32m    504\u001b[0m     \u001b[38;5;28;01mif\u001b[39;00m \u001b[38;5;28misinstance\u001b[39m(e\u001b[38;5;241m.\u001b[39mreason, ConnectTimeoutError):\n\u001b[1;32m    505\u001b[0m         \u001b[38;5;66;03m# TODO: Remove this in 3.0.0: see #2811\u001b[39;00m\n",
      "\u001b[0;31mConnectionError\u001b[0m: ('Connection aborted.', RemoteDisconnected('Remote end closed connection without response'))"
     ]
    }
   ],
   "source": [
    "playlist_id = \"37i9dQZF1DXd9zR7tdziuQ\"\n",
    "playlist = sp.playlist(playlist_id)"
   ]
  },
  {
   "cell_type": "code",
   "execution_count": 40,
   "id": "5260f67f-6024-4fee-8449-30904f03bf76",
   "metadata": {},
   "outputs": [
    {
     "ename": "NameError",
     "evalue": "name 'playlist' is not defined",
     "output_type": "error",
     "traceback": [
      "\u001b[0;31m---------------------------------------------------------------------------\u001b[0m",
      "\u001b[0;31mNameError\u001b[0m                                 Traceback (most recent call last)",
      "Cell \u001b[0;32mIn[40], line 1\u001b[0m\n\u001b[0;32m----> 1\u001b[0m \u001b[38;5;28mprint\u001b[39m(playlist[\u001b[38;5;124m'\u001b[39m\u001b[38;5;124mname\u001b[39m\u001b[38;5;124m'\u001b[39m])  \u001b[38;5;66;03m# Print the playlist's name\u001b[39;00m\n\u001b[1;32m      2\u001b[0m \u001b[38;5;28mprint\u001b[39m(playlist[\u001b[38;5;124m'\u001b[39m\u001b[38;5;124mdescription\u001b[39m\u001b[38;5;124m'\u001b[39m])\n",
      "\u001b[0;31mNameError\u001b[0m: name 'playlist' is not defined"
     ]
    }
   ],
   "source": [
    "print(playlist['name'])  # Print the playlist's name\n",
    "print(playlist['description'])  # Print the playlist's description"
   ]
  },
  {
   "cell_type": "markdown",
   "id": "13bc8631-69f0-4b98-9cc9-5baecbaea9ba",
   "metadata": {},
   "source": [
    "### Getting Tracks from a Playlist\n",
    "If you want to get the tracks from a specific playlist, you can use the playlist_tracks method."
   ]
  },
  {
   "cell_type": "code",
   "execution_count": null,
   "id": "69c78f8d-7e6a-4d15-bcbb-fc93edb82433",
   "metadata": {},
   "outputs": [],
   "source": [
    "tracks = sp.playlist_tracks(playlist_id)\n",
    "for track in tracks['items']:\n",
    "    print(track['track']['name'])  # Print each track's name"
   ]
  },
  {
   "cell_type": "markdown",
   "id": "2775714d-acc7-4555-96bd-2c541ab0855e",
   "metadata": {},
   "source": [
    "### Getting Artists from a Playlist\n",
    "\n",
    "To extract all the artists from the tracks in a playlist, you'd typically follow these steps:\n",
    "\n",
    "1. Fetch the playlist's tracks.\n",
    "2. Iterate through each track.\n",
    "3. For each track, extract the associated artists."
   ]
  },
  {
   "cell_type": "code",
   "execution_count": 38,
   "id": "65c5e5c4-f186-42c6-b136-4ef02b0b01ff",
   "metadata": {},
   "outputs": [
    {
     "ename": "NameError",
     "evalue": "name 'tracks' is not defined",
     "output_type": "error",
     "traceback": [
      "\u001b[0;31m---------------------------------------------------------------------------\u001b[0m",
      "\u001b[0;31mNameError\u001b[0m                                 Traceback (most recent call last)",
      "Cell \u001b[0;32mIn[38], line 4\u001b[0m\n\u001b[1;32m      1\u001b[0m \u001b[38;5;66;03m# List to store unique artist names\u001b[39;00m\n\u001b[1;32m      2\u001b[0m artists_list \u001b[38;5;241m=\u001b[39m []\n\u001b[0;32m----> 4\u001b[0m \u001b[38;5;28;01mfor\u001b[39;00m track_item \u001b[38;5;129;01min\u001b[39;00m tracks[\u001b[38;5;124m'\u001b[39m\u001b[38;5;124mitems\u001b[39m\u001b[38;5;124m'\u001b[39m]:\n\u001b[1;32m      5\u001b[0m     track \u001b[38;5;241m=\u001b[39m track_item[\u001b[38;5;124m'\u001b[39m\u001b[38;5;124mtrack\u001b[39m\u001b[38;5;124m'\u001b[39m]\n\u001b[1;32m      6\u001b[0m     \u001b[38;5;28;01mfor\u001b[39;00m artist \u001b[38;5;129;01min\u001b[39;00m track[\u001b[38;5;124m'\u001b[39m\u001b[38;5;124martists\u001b[39m\u001b[38;5;124m'\u001b[39m]:\n",
      "\u001b[0;31mNameError\u001b[0m: name 'tracks' is not defined"
     ]
    }
   ],
   "source": [
    "# List to store unique artist names\n",
    "artists_list = []\n",
    "\n",
    "for track_item in tracks['items']:\n",
    "    track = track_item['track']\n",
    "    for artist in track['artists']:\n",
    "        artist_name = artist['name']\n",
    "        if artist_name not in artists_list:  # This ensures each artist is added only once\n",
    "            artists_list.append(artist_name)\n",
    "\n",
    "print(artists_list)"
   ]
  },
  {
   "cell_type": "markdown",
   "id": "7b52207e-a4f0-4f90-9f4e-3170d7f0f3fe",
   "metadata": {},
   "source": [
    "## Exercise 2: Unraveling the World of Playlists\n",
    "\n",
    "\n",
    "1. **Featured Exploration**: \n",
    "   - Fetch the list of Spotify's current featured playlists. \n",
    "   - Extract and display the names and IDs of the top 5 featured playlists.\n",
    "   \n",
    "2. **Deep Dive**:\n",
    "   - Choose any one of the top 5 featured playlists (you can choose the one you personally find most interesting or simply pick one randomly).\n",
    "   - Fetch and display its name, description, and total track count.\n",
    "\n",
    "3. **Track-tastic**:\n",
    "   - Extract and display the names of the first 10 tracks in the chosen playlist.\n",
    "\n",
    "4. **Artistic Flair**:\n",
    "   - Create a dictionary where the keys are the names of the first 10 tracks, and the values are lists containing the names of the artists associated with each track.\n",
    "   - For example: `{\"TrackName1\": [\"Artist1\", \"Artist2\"], \"TrackName2\": [\"Artist3\"]}`\n",
    "   "
   ]
  },
  {
   "cell_type": "code",
   "execution_count": 42,
   "id": "ed92d961-9646-4375-a386-ccc320a958f5",
   "metadata": {},
   "outputs": [],
   "source": [
    "featured_playlists = sp.featured_playlists(limit=5)"
   ]
  },
  {
   "cell_type": "code",
   "execution_count": 47,
   "id": "b872cfe5",
   "metadata": {},
   "outputs": [
    {
     "data": {
      "text/plain": [
       "{'message': 'Popular Playlists',\n",
       " 'playlists': {'href': 'https://api.spotify.com/v1/browse/featured-playlists?offset=0&limit=5',\n",
       "  'items': [{'collaborative': False,\n",
       "    'description': 'De 50 populairste hits van Nederland. Cover: Benson Boone\\n',\n",
       "    'external_urls': {'spotify': 'https://open.spotify.com/playlist/37i9dQZF1DWSBi5svWQ9Nk'},\n",
       "    'href': 'https://api.spotify.com/v1/playlists/37i9dQZF1DWSBi5svWQ9Nk',\n",
       "    'id': '37i9dQZF1DWSBi5svWQ9Nk',\n",
       "    'images': [{'height': None,\n",
       "      'url': 'https://i.scdn.co/image/ab67706f00000002c2ac46d32289ff5e759359ba',\n",
       "      'width': None}],\n",
       "    'name': 'Top Hits NL',\n",
       "    'owner': {'display_name': 'Spotify',\n",
       "     'external_urls': {'spotify': 'https://open.spotify.com/user/spotify'},\n",
       "     'href': 'https://api.spotify.com/v1/users/spotify',\n",
       "     'id': 'spotify',\n",
       "     'type': 'user',\n",
       "     'uri': 'spotify:user:spotify'},\n",
       "    'primary_color': '#C3F0C8',\n",
       "    'public': True,\n",
       "    'snapshot_id': 'ZeEMcAAAAACEkHpQt8LKMooAluuXF9/m',\n",
       "    'tracks': {'href': 'https://api.spotify.com/v1/playlists/37i9dQZF1DWSBi5svWQ9Nk/tracks',\n",
       "     'total': 50},\n",
       "    'type': 'playlist',\n",
       "    'uri': 'spotify:playlist:37i9dQZF1DWSBi5svWQ9Nk'},\n",
       "   {'collaborative': False,\n",
       "    'description': 'De beste Nederlandse hits van vroeger en nu. Cover: Hannah Mae',\n",
       "    'external_urls': {'spotify': 'https://open.spotify.com/playlist/37i9dQZF1DXdKMCnEhDnDL'},\n",
       "    'href': 'https://api.spotify.com/v1/playlists/37i9dQZF1DXdKMCnEhDnDL',\n",
       "    'id': '37i9dQZF1DXdKMCnEhDnDL',\n",
       "    'images': [{'height': None,\n",
       "      'url': 'https://i.scdn.co/image/ab67706f00000002f714316193f241b5bf1425f6',\n",
       "      'width': None}],\n",
       "    'name': 'Beste van NL',\n",
       "    'owner': {'display_name': 'Spotify',\n",
       "     'external_urls': {'spotify': 'https://open.spotify.com/user/spotify'},\n",
       "     'href': 'https://api.spotify.com/v1/users/spotify',\n",
       "     'id': 'spotify',\n",
       "     'type': 'user',\n",
       "     'uri': 'spotify:user:spotify'},\n",
       "    'primary_color': '#ffffff',\n",
       "    'public': True,\n",
       "    'snapshot_id': 'Zd9PuAAAAAA1F9/KjOc29RptJId/IfHz',\n",
       "    'tracks': {'href': 'https://api.spotify.com/v1/playlists/37i9dQZF1DXdKMCnEhDnDL/tracks',\n",
       "     'total': 100},\n",
       "    'type': 'playlist',\n",
       "    'uri': 'spotify:playlist:37i9dQZF1DXdKMCnEhDnDL'},\n",
       "   {'collaborative': False,\n",
       "    'description': 'De grootste hits uit de kroeg in één playlist.',\n",
       "    'external_urls': {'spotify': 'https://open.spotify.com/playlist/37i9dQZF1DWUppGmuwT9c7'},\n",
       "    'href': 'https://api.spotify.com/v1/playlists/37i9dQZF1DWUppGmuwT9c7',\n",
       "    'id': '37i9dQZF1DWUppGmuwT9c7',\n",
       "    'images': [{'height': None,\n",
       "      'url': 'https://i.scdn.co/image/ab67706f00000002d59403672aeed868317fe155',\n",
       "      'width': None}],\n",
       "    'name': 'Kroegenhits 2024',\n",
       "    'owner': {'display_name': 'Spotify',\n",
       "     'external_urls': {'spotify': 'https://open.spotify.com/user/spotify'},\n",
       "     'href': 'https://api.spotify.com/v1/users/spotify',\n",
       "     'id': 'spotify',\n",
       "     'type': 'user',\n",
       "     'uri': 'spotify:user:spotify'},\n",
       "    'primary_color': '#ffffff',\n",
       "    'public': True,\n",
       "    'snapshot_id': 'ZeEPEwAAAAAvvMIKW3tGBn/FWPMVTQ0w',\n",
       "    'tracks': {'href': 'https://api.spotify.com/v1/playlists/37i9dQZF1DWUppGmuwT9c7/tracks',\n",
       "     'total': 78},\n",
       "    'type': 'playlist',\n",
       "    'uri': 'spotify:playlist:37i9dQZF1DWUppGmuwT9c7'},\n",
       "   {'collaborative': False,\n",
       "    'description': 'De nieuwste releases elke vrijdag op Spotify! Cover: Joost',\n",
       "    'external_urls': {'spotify': 'https://open.spotify.com/playlist/37i9dQZF1DXb5BKLTO7ULa'},\n",
       "    'href': 'https://api.spotify.com/v1/playlists/37i9dQZF1DXb5BKLTO7ULa',\n",
       "    'id': '37i9dQZF1DXb5BKLTO7ULa',\n",
       "    'images': [{'height': None,\n",
       "      'url': 'https://i.scdn.co/image/ab67706f0000000287573e6a802b236f5fb393b6',\n",
       "      'width': None}],\n",
       "    'name': 'New Music Friday NL',\n",
       "    'owner': {'display_name': 'Spotify',\n",
       "     'external_urls': {'spotify': 'https://open.spotify.com/user/spotify'},\n",
       "     'href': 'https://api.spotify.com/v1/users/spotify',\n",
       "     'id': 'spotify',\n",
       "     'type': 'user',\n",
       "     'uri': 'spotify:user:spotify'},\n",
       "    'primary_color': '#A0C3D2',\n",
       "    'public': True,\n",
       "    'snapshot_id': 'ZeEMcAAAAAAd+NEJXkXE88HtzeJJptch',\n",
       "    'tracks': {'href': 'https://api.spotify.com/v1/playlists/37i9dQZF1DXb5BKLTO7ULa/tracks',\n",
       "     'total': 100},\n",
       "    'type': 'playlist',\n",
       "    'uri': 'spotify:playlist:37i9dQZF1DXb5BKLTO7ULa'},\n",
       "   {'collaborative': False,\n",
       "    'description': 'Koffie met gemoedelijke muziek op de achtergrond.',\n",
       "    'external_urls': {'spotify': 'https://open.spotify.com/playlist/37i9dQZF1DWYPwGkJoztcR'},\n",
       "    'href': 'https://api.spotify.com/v1/playlists/37i9dQZF1DWYPwGkJoztcR',\n",
       "    'id': '37i9dQZF1DWYPwGkJoztcR',\n",
       "    'images': [{'height': None,\n",
       "      'url': 'https://i.scdn.co/image/ab67706f0000000258e9793722274f9d7b7e85e6',\n",
       "      'width': None}],\n",
       "    'name': \"'t Koffiehuis\",\n",
       "    'owner': {'display_name': 'Spotify',\n",
       "     'external_urls': {'spotify': 'https://open.spotify.com/user/spotify'},\n",
       "     'href': 'https://api.spotify.com/v1/users/spotify',\n",
       "     'id': 'spotify',\n",
       "     'type': 'user',\n",
       "     'uri': 'spotify:user:spotify'},\n",
       "    'primary_color': '#ffffff',\n",
       "    'public': True,\n",
       "    'snapshot_id': 'ZeEMcAAAAABsHhFeVNAxKbgAX97eKESa',\n",
       "    'tracks': {'href': 'https://api.spotify.com/v1/playlists/37i9dQZF1DWYPwGkJoztcR/tracks',\n",
       "     'total': 100},\n",
       "    'type': 'playlist',\n",
       "    'uri': 'spotify:playlist:37i9dQZF1DWYPwGkJoztcR'}],\n",
       "  'limit': 5,\n",
       "  'next': 'https://api.spotify.com/v1/browse/featured-playlists?offset=5&limit=5',\n",
       "  'offset': 0,\n",
       "  'previous': None,\n",
       "  'total': 100}}"
      ]
     },
     "execution_count": 47,
     "metadata": {},
     "output_type": "execute_result"
    }
   ],
   "source": [
    "featured_playlists"
   ]
  },
  {
   "cell_type": "code",
   "execution_count": 54,
   "id": "2938ae65",
   "metadata": {},
   "outputs": [
    {
     "data": {
      "text/plain": [
       "{'collaborative': False,\n",
       " 'description': 'De 50 populairste hits van Nederland. Cover: Benson Boone\\n',\n",
       " 'external_urls': {'spotify': 'https://open.spotify.com/playlist/37i9dQZF1DWSBi5svWQ9Nk'},\n",
       " 'href': 'https://api.spotify.com/v1/playlists/37i9dQZF1DWSBi5svWQ9Nk',\n",
       " 'id': '37i9dQZF1DWSBi5svWQ9Nk',\n",
       " 'images': [{'height': None,\n",
       "   'url': 'https://i.scdn.co/image/ab67706f00000002c2ac46d32289ff5e759359ba',\n",
       "   'width': None}],\n",
       " 'name': 'Top Hits NL',\n",
       " 'owner': {'display_name': 'Spotify',\n",
       "  'external_urls': {'spotify': 'https://open.spotify.com/user/spotify'},\n",
       "  'href': 'https://api.spotify.com/v1/users/spotify',\n",
       "  'id': 'spotify',\n",
       "  'type': 'user',\n",
       "  'uri': 'spotify:user:spotify'},\n",
       " 'primary_color': '#C3F0C8',\n",
       " 'public': True,\n",
       " 'snapshot_id': 'ZeEMcAAAAACEkHpQt8LKMooAluuXF9/m',\n",
       " 'tracks': {'href': 'https://api.spotify.com/v1/playlists/37i9dQZF1DWSBi5svWQ9Nk/tracks',\n",
       "  'total': 50},\n",
       " 'type': 'playlist',\n",
       " 'uri': 'spotify:playlist:37i9dQZF1DWSBi5svWQ9Nk'}"
      ]
     },
     "execution_count": 54,
     "metadata": {},
     "output_type": "execute_result"
    }
   ],
   "source": [
    "random_pick = featured_playlists['playlists']['items'][0]\n",
    "random_pick"
   ]
  },
  {
   "cell_type": "code",
   "execution_count": 80,
   "id": "d099f307",
   "metadata": {
    "scrolled": false
   },
   "outputs": [
    {
     "name": "stdout",
     "output_type": "stream",
     "text": [
      "Take Me Home, Country Roads\n",
      "Time After Time\n",
      "Days Like This\n",
      "True Colours\n",
      "Stay With Me - Live From Spotify Berlin\n",
      "La Vie En Rose\n",
      "Cold Heart - Acoustic\n",
      "Sunday Morning - Acoustic\n",
      "You Are My Sunshine\n",
      "September Song - Guitar Acoustic\n"
     ]
    }
   ],
   "source": [
    "top_tracks = sp.playlist_tracks(playlist_id)\n",
    "for track in top_tracks['items'][:10]:\n",
    "    print(track['track']['name'])"
   ]
  },
  {
   "cell_type": "code",
   "execution_count": 86,
   "id": "ade9a012",
   "metadata": {},
   "outputs": [
    {
     "name": "stdout",
     "output_type": "stream",
     "text": [
      "{'Take Me Home, Country Roads': ['Lana Del Rey'], 'Time After Time': ['Iron & Wine'], 'Days Like This': ['Dermot Kennedy'], 'True Colours': ['Tom Odell'], 'Stay With Me - Live From Spotify Berlin': ['Angus & Julia Stone'], 'La Vie En Rose': ['Daniela Andrade'], 'Cold Heart - Acoustic': ['Elton John', 'Dua Lipa'], 'Sunday Morning - Acoustic': ['Maroon 5'], 'You Are My Sunshine': ['Jasmine Thompson'], 'September Song - Guitar Acoustic': ['JP Cooper']}\n"
     ]
    }
   ],
   "source": [
    "track_with_artist = {}\n",
    "\n",
    "for track in top_tracks['items'][:10]:\n",
    "    track_name = track['track']['name']\n",
    "    artist_names = [artist['name'] for artist in track['track']['artists']]\n",
    "    track_with_artist[track_name] = artist_names\n",
    "\n",
    "print(track_with_artist)"
   ]
  }
 ],
 "metadata": {
  "kernelspec": {
   "display_name": "Python 3 (ipykernel)",
   "language": "python",
   "name": "python3"
  },
  "language_info": {
   "codemirror_mode": {
    "name": "ipython",
    "version": 3
   },
   "file_extension": ".py",
   "mimetype": "text/x-python",
   "name": "python",
   "nbconvert_exporter": "python",
   "pygments_lexer": "ipython3",
   "version": "3.11.5"
  }
 },
 "nbformat": 4,
 "nbformat_minor": 5
}
